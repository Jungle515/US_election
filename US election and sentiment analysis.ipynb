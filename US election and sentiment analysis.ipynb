{
 "cells": [
  {
   "cell_type": "code",
   "execution_count": 153,
   "metadata": {},
   "outputs": [],
   "source": [
    "import pandas as pd\n",
    "import numpy as np\n",
    "import matplotlib.pyplot as plt\n",
    "import re, string, unicodedata\n",
    "import nltk\n",
    "from nltk import word_tokenize, sent_tokenize\n",
    "from nltk.corpus import stopwords\n",
    "from nltk.stem import LancasterStemmer, WordNetLemmatizer\n",
    "from sklearn.preprocessing import StandardScaler\n",
    "from sklearn.linear_model import LogisticRegression\n",
    "from sklearn.model_selection import train_test_split\n",
    "from sklearn.model_selection import KFold\n",
    "from sklearn.metrics import make_scorer, confusion_matrix, r2_score,accuracy_score,classification_report\n",
    "from sklearn.neighbors import KNeighborsClassifier\n",
    "from sklearn import neighbors\n",
    "from sklearn import metrics\n",
    "from sklearn.svm import SVC\n",
    "from sklearn.model_selection import GridSearchCV\n",
    "import warnings\n",
    "warnings.filterwarnings(\"ignore\")"
   ]
  },
  {
   "cell_type": "markdown",
   "metadata": {},
   "source": [
    "## 1.0 Data Cleaning"
   ]
  },
  {
   "cell_type": "markdown",
   "metadata": {},
   "source": [
    "### 1.1 Clean US_Elections_2020.csv"
   ]
  },
  {
   "cell_type": "code",
   "execution_count": 189,
   "metadata": {},
   "outputs": [
    {
     "data": {
      "text/html": [
       "<div>\n",
       "<style scoped>\n",
       "    .dataframe tbody tr th:only-of-type {\n",
       "        vertical-align: middle;\n",
       "    }\n",
       "\n",
       "    .dataframe tbody tr th {\n",
       "        vertical-align: top;\n",
       "    }\n",
       "\n",
       "    .dataframe thead th {\n",
       "        text-align: right;\n",
       "    }\n",
       "</style>\n",
       "<table border=\"1\" class=\"dataframe\">\n",
       "  <thead>\n",
       "    <tr style=\"text-align: right;\">\n",
       "      <th></th>\n",
       "      <th>text</th>\n",
       "      <th>sentiment</th>\n",
       "      <th>negative_reason</th>\n",
       "    </tr>\n",
       "  </thead>\n",
       "  <tbody>\n",
       "    <tr>\n",
       "      <th>0</th>\n",
       "      <td>b'@robreiner so afraid of Nov, Dec, and Jan! E...</td>\n",
       "      <td>0</td>\n",
       "      <td>covid19</td>\n",
       "    </tr>\n",
       "    <tr>\n",
       "      <th>1</th>\n",
       "      <td>b\"RT @SueC00K: Lord Sumption launches Recovery...</td>\n",
       "      <td>0</td>\n",
       "      <td>others</td>\n",
       "    </tr>\n",
       "    <tr>\n",
       "      <th>2</th>\n",
       "      <td>b'RT @WalidPhares: Uber Timing: after #Biden a...</td>\n",
       "      <td>0</td>\n",
       "      <td>covid19</td>\n",
       "    </tr>\n",
       "    <tr>\n",
       "      <th>3</th>\n",
       "      <td>b'Every 107 seconds an American is dying from ...</td>\n",
       "      <td>1</td>\n",
       "      <td>NaN</td>\n",
       "    </tr>\n",
       "    <tr>\n",
       "      <th>4</th>\n",
       "      <td>b'RT @thewebbix: The #Democrats embrace #Diver...</td>\n",
       "      <td>1</td>\n",
       "      <td>NaN</td>\n",
       "    </tr>\n",
       "  </tbody>\n",
       "</table>\n",
       "</div>"
      ],
      "text/plain": [
       "                                                text  sentiment  \\\n",
       "0  b'@robreiner so afraid of Nov, Dec, and Jan! E...          0   \n",
       "1  b\"RT @SueC00K: Lord Sumption launches Recovery...          0   \n",
       "2  b'RT @WalidPhares: Uber Timing: after #Biden a...          0   \n",
       "3  b'Every 107 seconds an American is dying from ...          1   \n",
       "4  b'RT @thewebbix: The #Democrats embrace #Diver...          1   \n",
       "\n",
       "  negative_reason  \n",
       "0         covid19  \n",
       "1          others  \n",
       "2         covid19  \n",
       "3             NaN  \n",
       "4             NaN  "
      ]
     },
     "execution_count": 189,
     "metadata": {},
     "output_type": "execute_result"
    }
   ],
   "source": [
    "df_US = pd.read_csv('US_Elections_2020.csv')\n",
    "df_US.head()"
   ]
  },
  {
   "cell_type": "code",
   "execution_count": 190,
   "metadata": {},
   "outputs": [],
   "source": [
    "# remove all html tags and attributes\n",
    "df_US.loc[:,\"text\"] = df_US.text.apply(lambda x : re.sub(r'/<[^>]+>/','', x))"
   ]
  },
  {
   "cell_type": "code",
   "execution_count": 191,
   "metadata": {},
   "outputs": [],
   "source": [
    "#replace html character codes with ASCII equivalent\n",
    "from html import unescape\n",
    "df_US[\"text\"] = df_US.text.apply(lambda x :unescape(x))"
   ]
  },
  {
   "cell_type": "code",
   "execution_count": 192,
   "metadata": {},
   "outputs": [],
   "source": [
    "df_US.loc[:,\"text\"] = df_US.text.apply(lambda x : re.sub(r'http\\S+', '', x)) #remove URL"
   ]
  },
  {
   "cell_type": "code",
   "execution_count": 193,
   "metadata": {},
   "outputs": [],
   "source": [
    "#remove \\n\n",
    "df_US.loc[:,\"text\"] = df_US.text.apply(lambda x :x.replace('\\\\n',''))"
   ]
  },
  {
   "cell_type": "code",
   "execution_count": 194,
   "metadata": {},
   "outputs": [],
   "source": [
    "# Remove @users, RT and punctuation but keep hashtag\n",
    "def remove_punct (df):\n",
    "    df['text'] = df['text'].replace(r'@\\w+','', regex=True)\n",
    "    df['text'] = df['text'].str.replace(\"[^a-zA-Z#]\", \" \")\n",
    "    df['text'] = df['text'].str.replace('RT', '')\n",
    "    return df\n",
    "df_US = remove_punct (df_US)"
   ]
  },
  {
   "cell_type": "code",
   "execution_count": 195,
   "metadata": {},
   "outputs": [
    {
     "data": {
      "text/html": [
       "<div>\n",
       "<style scoped>\n",
       "    .dataframe tbody tr th:only-of-type {\n",
       "        vertical-align: middle;\n",
       "    }\n",
       "\n",
       "    .dataframe tbody tr th {\n",
       "        vertical-align: top;\n",
       "    }\n",
       "\n",
       "    .dataframe thead th {\n",
       "        text-align: right;\n",
       "    }\n",
       "</style>\n",
       "<table border=\"1\" class=\"dataframe\">\n",
       "  <thead>\n",
       "    <tr style=\"text-align: right;\">\n",
       "      <th></th>\n",
       "      <th>text</th>\n",
       "      <th>sentiment</th>\n",
       "      <th>negative_reason</th>\n",
       "    </tr>\n",
       "  </thead>\n",
       "  <tbody>\n",
       "    <tr>\n",
       "      <th>0</th>\n",
       "      <td>b  so afraid of Nov  Dec  and Jan  Even if #Bi...</td>\n",
       "      <td>0</td>\n",
       "      <td>covid19</td>\n",
       "    </tr>\n",
       "    <tr>\n",
       "      <th>1</th>\n",
       "      <td>b    Lord Sumption launches Recovery   a new i...</td>\n",
       "      <td>0</td>\n",
       "      <td>others</td>\n",
       "    </tr>\n",
       "    <tr>\n",
       "      <th>2</th>\n",
       "      <td>b    Uber Timing  after #Biden advisors said t...</td>\n",
       "      <td>0</td>\n",
       "      <td>covid19</td>\n",
       "    </tr>\n",
       "    <tr>\n",
       "      <th>3</th>\n",
       "      <td>b Every     seconds an American is dying from ...</td>\n",
       "      <td>1</td>\n",
       "      <td>NaN</td>\n",
       "    </tr>\n",
       "    <tr>\n",
       "      <th>4</th>\n",
       "      <td>b    The #Democrats embrace #DiversityandInclu...</td>\n",
       "      <td>1</td>\n",
       "      <td>NaN</td>\n",
       "    </tr>\n",
       "  </tbody>\n",
       "</table>\n",
       "</div>"
      ],
      "text/plain": [
       "                                                text  sentiment  \\\n",
       "0  b  so afraid of Nov  Dec  and Jan  Even if #Bi...          0   \n",
       "1  b    Lord Sumption launches Recovery   a new i...          0   \n",
       "2  b    Uber Timing  after #Biden advisors said t...          0   \n",
       "3  b Every     seconds an American is dying from ...          1   \n",
       "4  b    The #Democrats embrace #DiversityandInclu...          1   \n",
       "\n",
       "  negative_reason  \n",
       "0         covid19  \n",
       "1          others  \n",
       "2         covid19  \n",
       "3             NaN  \n",
       "4             NaN  "
      ]
     },
     "execution_count": 195,
     "metadata": {},
     "output_type": "execute_result"
    }
   ],
   "source": [
    "df_US.head()"
   ]
  },
  {
   "cell_type": "code",
   "execution_count": 196,
   "metadata": {},
   "outputs": [],
   "source": [
    "df_US.loc[:,\"text\"] = df_US.text.apply(lambda x : str.lower(x)) #convert all characters to lowercase"
   ]
  },
  {
   "cell_type": "code",
   "execution_count": 197,
   "metadata": {},
   "outputs": [
    {
     "data": {
      "text/html": [
       "<div>\n",
       "<style scoped>\n",
       "    .dataframe tbody tr th:only-of-type {\n",
       "        vertical-align: middle;\n",
       "    }\n",
       "\n",
       "    .dataframe tbody tr th {\n",
       "        vertical-align: top;\n",
       "    }\n",
       "\n",
       "    .dataframe thead th {\n",
       "        text-align: right;\n",
       "    }\n",
       "</style>\n",
       "<table border=\"1\" class=\"dataframe\">\n",
       "  <thead>\n",
       "    <tr style=\"text-align: right;\">\n",
       "      <th></th>\n",
       "      <th>text</th>\n",
       "      <th>sentiment</th>\n",
       "      <th>negative_reason</th>\n",
       "    </tr>\n",
       "  </thead>\n",
       "  <tbody>\n",
       "    <tr>\n",
       "      <th>0</th>\n",
       "      <td>b  so afraid of nov  dec  and jan  even if #bi...</td>\n",
       "      <td>0</td>\n",
       "      <td>covid19</td>\n",
       "    </tr>\n",
       "    <tr>\n",
       "      <th>1</th>\n",
       "      <td>b    lord sumption launches recovery   a new i...</td>\n",
       "      <td>0</td>\n",
       "      <td>others</td>\n",
       "    </tr>\n",
       "    <tr>\n",
       "      <th>2</th>\n",
       "      <td>b    uber timing  after #biden advisors said t...</td>\n",
       "      <td>0</td>\n",
       "      <td>covid19</td>\n",
       "    </tr>\n",
       "    <tr>\n",
       "      <th>3</th>\n",
       "      <td>b every     seconds an american is dying from ...</td>\n",
       "      <td>1</td>\n",
       "      <td>NaN</td>\n",
       "    </tr>\n",
       "    <tr>\n",
       "      <th>4</th>\n",
       "      <td>b    the #democrats embrace #diversityandinclu...</td>\n",
       "      <td>1</td>\n",
       "      <td>NaN</td>\n",
       "    </tr>\n",
       "  </tbody>\n",
       "</table>\n",
       "</div>"
      ],
      "text/plain": [
       "                                                text  sentiment  \\\n",
       "0  b  so afraid of nov  dec  and jan  even if #bi...          0   \n",
       "1  b    lord sumption launches recovery   a new i...          0   \n",
       "2  b    uber timing  after #biden advisors said t...          0   \n",
       "3  b every     seconds an american is dying from ...          1   \n",
       "4  b    the #democrats embrace #diversityandinclu...          1   \n",
       "\n",
       "  negative_reason  \n",
       "0         covid19  \n",
       "1          others  \n",
       "2         covid19  \n",
       "3             NaN  \n",
       "4             NaN  "
      ]
     },
     "execution_count": 197,
     "metadata": {},
     "output_type": "execute_result"
    }
   ],
   "source": [
    "df_US.head()"
   ]
  },
  {
   "cell_type": "code",
   "execution_count": 198,
   "metadata": {},
   "outputs": [],
   "source": [
    "# remove stop words\n",
    "stopwords = open('stop_words.txt','r',encoding=\"utf8\").read() # read stop_words.txt\n",
    "stopwords = stopwords.split('\\n')\n",
    "def remove_stopWords(s):\n",
    "    s = ' '.join(word for word in s.split() if word not in stopwords)\n",
    "    return s\n",
    "\n",
    "df_US[\"text\"] = df_US.text.apply(lambda x: remove_stopWords(x))"
   ]
  },
  {
   "cell_type": "code",
   "execution_count": 199,
   "metadata": {},
   "outputs": [
    {
     "data": {
      "text/html": [
       "<div>\n",
       "<style scoped>\n",
       "    .dataframe tbody tr th:only-of-type {\n",
       "        vertical-align: middle;\n",
       "    }\n",
       "\n",
       "    .dataframe tbody tr th {\n",
       "        vertical-align: top;\n",
       "    }\n",
       "\n",
       "    .dataframe thead th {\n",
       "        text-align: right;\n",
       "    }\n",
       "</style>\n",
       "<table border=\"1\" class=\"dataframe\">\n",
       "  <thead>\n",
       "    <tr style=\"text-align: right;\">\n",
       "      <th></th>\n",
       "      <th>text</th>\n",
       "      <th>sentiment</th>\n",
       "      <th>negative_reason</th>\n",
       "    </tr>\n",
       "  </thead>\n",
       "  <tbody>\n",
       "    <tr>\n",
       "      <th>0</th>\n",
       "      <td>afraid nov dec jan #bidenharris win frump mont...</td>\n",
       "      <td>0</td>\n",
       "      <td>covid19</td>\n",
       "    </tr>\n",
       "    <tr>\n",
       "      <th>1</th>\n",
       "      <td>lord sumption launches recovery initiative pro...</td>\n",
       "      <td>0</td>\n",
       "      <td>others</td>\n",
       "    </tr>\n",
       "    <tr>\n",
       "      <th>2</th>\n",
       "      <td>uber timing #biden advisors pressure #brazil s...</td>\n",
       "      <td>0</td>\n",
       "      <td>covid19</td>\n",
       "    </tr>\n",
       "    <tr>\n",
       "      <th>3</th>\n",
       "      <td>seconds american dying #trumpvirus #donaldtrum...</td>\n",
       "      <td>1</td>\n",
       "      <td>NaN</td>\n",
       "    </tr>\n",
       "    <tr>\n",
       "      <th>4</th>\n",
       "      <td>#democrats embrace #diversityandinclusion citi...</td>\n",
       "      <td>1</td>\n",
       "      <td>NaN</td>\n",
       "    </tr>\n",
       "  </tbody>\n",
       "</table>\n",
       "</div>"
      ],
      "text/plain": [
       "                                                text  sentiment  \\\n",
       "0  afraid nov dec jan #bidenharris win frump mont...          0   \n",
       "1  lord sumption launches recovery initiative pro...          0   \n",
       "2  uber timing #biden advisors pressure #brazil s...          0   \n",
       "3  seconds american dying #trumpvirus #donaldtrum...          1   \n",
       "4  #democrats embrace #diversityandinclusion citi...          1   \n",
       "\n",
       "  negative_reason  \n",
       "0         covid19  \n",
       "1          others  \n",
       "2         covid19  \n",
       "3             NaN  \n",
       "4             NaN  "
      ]
     },
     "execution_count": 199,
     "metadata": {},
     "output_type": "execute_result"
    }
   ],
   "source": [
    "df_US.head()"
   ]
  },
  {
   "cell_type": "code",
   "execution_count": 200,
   "metadata": {},
   "outputs": [
    {
     "data": {
      "text/plain": [
       "['seconds',\n",
       " 'american',\n",
       " 'dying',\n",
       " '#trumpvirus',\n",
       " '#donaldtrump',\n",
       " 'thinks',\n",
       " 'success',\n",
       " '#joebiden']"
      ]
     },
     "execution_count": 200,
     "metadata": {},
     "output_type": "execute_result"
    }
   ],
   "source": [
    "df_US.iloc[3]['text'].split()"
   ]
  },
  {
   "cell_type": "code",
   "execution_count": 201,
   "metadata": {},
   "outputs": [
    {
     "data": {
      "text/plain": [
       "True     1288\n",
       "False    1264\n",
       "Name: negative_reason, dtype: int64"
      ]
     },
     "execution_count": 201,
     "metadata": {},
     "output_type": "execute_result"
    }
   ],
   "source": [
    "df_US['negative_reason'].isnull().value_counts()"
   ]
  },
  {
   "cell_type": "markdown",
   "metadata": {},
   "source": [
    "### 1.2 Clean sentiment_analysis.csv"
   ]
  },
  {
   "cell_type": "code",
   "execution_count": 15,
   "metadata": {},
   "outputs": [
    {
     "data": {
      "text/html": [
       "<div>\n",
       "<style scoped>\n",
       "    .dataframe tbody tr th:only-of-type {\n",
       "        vertical-align: middle;\n",
       "    }\n",
       "\n",
       "    .dataframe tbody tr th {\n",
       "        vertical-align: top;\n",
       "    }\n",
       "\n",
       "    .dataframe thead th {\n",
       "        text-align: right;\n",
       "    }\n",
       "</style>\n",
       "<table border=\"1\" class=\"dataframe\">\n",
       "  <thead>\n",
       "    <tr style=\"text-align: right;\">\n",
       "      <th></th>\n",
       "      <th>ID</th>\n",
       "      <th>text</th>\n",
       "      <th>label</th>\n",
       "    </tr>\n",
       "  </thead>\n",
       "  <tbody>\n",
       "    <tr>\n",
       "      <th>0</th>\n",
       "      <td>7.680980e+17</td>\n",
       "      <td>Josh Jenkins is looking forward to TAB Breeder...</td>\n",
       "      <td>1</td>\n",
       "    </tr>\n",
       "    <tr>\n",
       "      <th>1</th>\n",
       "      <td>7.680980e+17</td>\n",
       "      <td>RT @MianUsmanJaved: Congratulations Pakistan o...</td>\n",
       "      <td>1</td>\n",
       "    </tr>\n",
       "    <tr>\n",
       "      <th>2</th>\n",
       "      <td>7.680980e+17</td>\n",
       "      <td>RT @PEPalerts: This September, @YESmag is taki...</td>\n",
       "      <td>1</td>\n",
       "    </tr>\n",
       "    <tr>\n",
       "      <th>3</th>\n",
       "      <td>7.680980e+17</td>\n",
       "      <td>RT @david_gaibis: Newly painted walls, thanks ...</td>\n",
       "      <td>1</td>\n",
       "    </tr>\n",
       "    <tr>\n",
       "      <th>4</th>\n",
       "      <td>7.680980e+17</td>\n",
       "      <td>RT @CedricFeschotte: Excited to announce: as o...</td>\n",
       "      <td>1</td>\n",
       "    </tr>\n",
       "  </tbody>\n",
       "</table>\n",
       "</div>"
      ],
      "text/plain": [
       "             ID                                               text  label\n",
       "0  7.680980e+17  Josh Jenkins is looking forward to TAB Breeder...      1\n",
       "1  7.680980e+17  RT @MianUsmanJaved: Congratulations Pakistan o...      1\n",
       "2  7.680980e+17  RT @PEPalerts: This September, @YESmag is taki...      1\n",
       "3  7.680980e+17  RT @david_gaibis: Newly painted walls, thanks ...      1\n",
       "4  7.680980e+17  RT @CedricFeschotte: Excited to announce: as o...      1"
      ]
     },
     "execution_count": 15,
     "metadata": {},
     "output_type": "execute_result"
    }
   ],
   "source": [
    "df_sentiment = pd.read_csv('sentiment_analysis.csv')\n",
    "df_sentiment.head()"
   ]
  },
  {
   "cell_type": "code",
   "execution_count": 16,
   "metadata": {},
   "outputs": [],
   "source": [
    "#remove all html tags and attributes\n",
    "df_sentiment[\"text\"] = df_sentiment.text.apply(lambda x : re.sub(r'/<[^>]+>/','', x))"
   ]
  },
  {
   "cell_type": "code",
   "execution_count": 17,
   "metadata": {},
   "outputs": [],
   "source": [
    "#replace html character codes with ASCII equivalent\n",
    "from html import unescape\n",
    "df_sentiment[\"text\"] = df_sentiment.text.apply(lambda x :unescape(x))"
   ]
  },
  {
   "cell_type": "code",
   "execution_count": 18,
   "metadata": {},
   "outputs": [],
   "source": [
    "df_sentiment.loc[:,\"text\"] = df_sentiment.text.apply(lambda x : re.sub(r'http\\S+', '', x)) #remove URL"
   ]
  },
  {
   "cell_type": "code",
   "execution_count": 19,
   "metadata": {},
   "outputs": [],
   "source": [
    "# remove accented characters\n",
    "import unicodedata\n",
    "def remove_accented_chars(text):\n",
    "    new_text = unicodedata.normalize('NFKD', text).encode('ascii', 'ignore').decode('utf-8', 'ignore')\n",
    "    return new_text\n",
    "df_sentiment[\"text\"] = df_sentiment.text.apply(lambda x :remove_accented_chars(x))"
   ]
  },
  {
   "cell_type": "code",
   "execution_count": 20,
   "metadata": {},
   "outputs": [],
   "source": [
    "df_sentiment = remove_punct(df_sentiment)#remove punctuations, @users, RT, keep hashtag"
   ]
  },
  {
   "cell_type": "code",
   "execution_count": 21,
   "metadata": {},
   "outputs": [],
   "source": [
    "df_sentiment.loc[:,\"text\"] = df_sentiment.text.apply(lambda x : str.lower(x)) #convert all characters to lowercase"
   ]
  },
  {
   "cell_type": "code",
   "execution_count": 22,
   "metadata": {},
   "outputs": [
    {
     "data": {
      "text/html": [
       "<div>\n",
       "<style scoped>\n",
       "    .dataframe tbody tr th:only-of-type {\n",
       "        vertical-align: middle;\n",
       "    }\n",
       "\n",
       "    .dataframe tbody tr th {\n",
       "        vertical-align: top;\n",
       "    }\n",
       "\n",
       "    .dataframe thead th {\n",
       "        text-align: right;\n",
       "    }\n",
       "</style>\n",
       "<table border=\"1\" class=\"dataframe\">\n",
       "  <thead>\n",
       "    <tr style=\"text-align: right;\">\n",
       "      <th></th>\n",
       "      <th>ID</th>\n",
       "      <th>text</th>\n",
       "      <th>label</th>\n",
       "    </tr>\n",
       "  </thead>\n",
       "  <tbody>\n",
       "    <tr>\n",
       "      <th>0</th>\n",
       "      <td>7.680980e+17</td>\n",
       "      <td>josh jenkins is looking forward to tab breeder...</td>\n",
       "      <td>1</td>\n",
       "    </tr>\n",
       "    <tr>\n",
       "      <th>1</th>\n",
       "      <td>7.680980e+17</td>\n",
       "      <td>congratulations pakistan on becoming #no te...</td>\n",
       "      <td>1</td>\n",
       "    </tr>\n",
       "    <tr>\n",
       "      <th>2</th>\n",
       "      <td>7.680980e+17</td>\n",
       "      <td>this september   is taking you to maine men...</td>\n",
       "      <td>1</td>\n",
       "    </tr>\n",
       "    <tr>\n",
       "      <th>3</th>\n",
       "      <td>7.680980e+17</td>\n",
       "      <td>newly painted walls  thanks a million to ou...</td>\n",
       "      <td>1</td>\n",
       "    </tr>\n",
       "    <tr>\n",
       "      <th>4</th>\n",
       "      <td>7.680980e+17</td>\n",
       "      <td>excited to announce  as of july      fescho...</td>\n",
       "      <td>1</td>\n",
       "    </tr>\n",
       "  </tbody>\n",
       "</table>\n",
       "</div>"
      ],
      "text/plain": [
       "             ID                                               text  label\n",
       "0  7.680980e+17  josh jenkins is looking forward to tab breeder...      1\n",
       "1  7.680980e+17     congratulations pakistan on becoming #no te...      1\n",
       "2  7.680980e+17     this september   is taking you to maine men...      1\n",
       "3  7.680980e+17     newly painted walls  thanks a million to ou...      1\n",
       "4  7.680980e+17     excited to announce  as of july      fescho...      1"
      ]
     },
     "execution_count": 22,
     "metadata": {},
     "output_type": "execute_result"
    }
   ],
   "source": [
    "df_sentiment.head()"
   ]
  },
  {
   "cell_type": "code",
   "execution_count": 23,
   "metadata": {},
   "outputs": [],
   "source": [
    "#remove stopwords\n",
    "df_sentiment[\"text\"] = df_sentiment.text.apply(lambda x: remove_stopWords(x))"
   ]
  },
  {
   "cell_type": "code",
   "execution_count": 24,
   "metadata": {},
   "outputs": [
    {
     "data": {
      "text/html": [
       "<div>\n",
       "<style scoped>\n",
       "    .dataframe tbody tr th:only-of-type {\n",
       "        vertical-align: middle;\n",
       "    }\n",
       "\n",
       "    .dataframe tbody tr th {\n",
       "        vertical-align: top;\n",
       "    }\n",
       "\n",
       "    .dataframe thead th {\n",
       "        text-align: right;\n",
       "    }\n",
       "</style>\n",
       "<table border=\"1\" class=\"dataframe\">\n",
       "  <thead>\n",
       "    <tr style=\"text-align: right;\">\n",
       "      <th></th>\n",
       "      <th>ID</th>\n",
       "      <th>text</th>\n",
       "      <th>label</th>\n",
       "    </tr>\n",
       "  </thead>\n",
       "  <tbody>\n",
       "    <tr>\n",
       "      <th>0</th>\n",
       "      <td>7.680980e+17</td>\n",
       "      <td>josh jenkins forward tab breeders crown super ...</td>\n",
       "      <td>1</td>\n",
       "    </tr>\n",
       "    <tr>\n",
       "      <th>1</th>\n",
       "      <td>7.680980e+17</td>\n",
       "      <td>congratulations pakistan #no testteam odds #ji...</td>\n",
       "      <td>1</td>\n",
       "    </tr>\n",
       "    <tr>\n",
       "      <th>2</th>\n",
       "      <td>7.680980e+17</td>\n",
       "      <td>september maine mendozas surprise thanksgiving...</td>\n",
       "      <td>1</td>\n",
       "    </tr>\n",
       "    <tr>\n",
       "      <th>3</th>\n",
       "      <td>7.680980e+17</td>\n",
       "      <td>newly painted walls custodial painters summer ...</td>\n",
       "      <td>1</td>\n",
       "    </tr>\n",
       "    <tr>\n",
       "      <th>4</th>\n",
       "      <td>7.680980e+17</td>\n",
       "      <td>excited july feschotte lab will relocating mbg</td>\n",
       "      <td>1</td>\n",
       "    </tr>\n",
       "  </tbody>\n",
       "</table>\n",
       "</div>"
      ],
      "text/plain": [
       "             ID                                               text  label\n",
       "0  7.680980e+17  josh jenkins forward tab breeders crown super ...      1\n",
       "1  7.680980e+17  congratulations pakistan #no testteam odds #ji...      1\n",
       "2  7.680980e+17  september maine mendozas surprise thanksgiving...      1\n",
       "3  7.680980e+17  newly painted walls custodial painters summer ...      1\n",
       "4  7.680980e+17     excited july feschotte lab will relocating mbg      1"
      ]
     },
     "execution_count": 24,
     "metadata": {},
     "output_type": "execute_result"
    }
   ],
   "source": [
    "df_sentiment.head()"
   ]
  },
  {
   "cell_type": "code",
   "execution_count": 25,
   "metadata": {},
   "outputs": [
    {
     "data": {
      "text/plain": [
       "['josh', 'jenkins', 'forward', 'tab', 'breeders', 'crown', 'super', 'sunday']"
      ]
     },
     "execution_count": 25,
     "metadata": {},
     "output_type": "execute_result"
    }
   ],
   "source": [
    "df_sentiment.iloc[0]['text'].split()"
   ]
  },
  {
   "cell_type": "markdown",
   "metadata": {},
   "source": [
    "## 2.0 Exploratory Analysis"
   ]
  },
  {
   "cell_type": "code",
   "execution_count": 188,
   "metadata": {},
   "outputs": [
    {
     "name": "stdout",
     "output_type": "stream",
     "text": [
      "567\n",
      "151\n",
      "1834\n"
     ]
    }
   ],
   "source": [
    "#look for some relevant words to determine political affiliations\n",
    "count_demo = 0\n",
    "count_repub = 0\n",
    "count_others = 0\n",
    "for i in range (df_US['text'].shape[0]):\n",
    "    x = df_US.iloc[i]['text']\n",
    "    if 'maga' in x or 'hunterbiden' in x:\n",
    "        count_repub+=1\n",
    "        df_US.loc[i,'Political Affiliation'] = 'Republican Party'\n",
    "    elif 'bidenharris' in x or 'voteblue' in x or 'trumpcrimefamily' in x or 'votehimout'in x or 'trumpvirus' in x or 'bluewave' in x or 'democrats' in x:\n",
    "        count_demo+=1\n",
    "        df_US.loc[i,'Political Affiliation'] = 'Democratic Party'\n",
    "    else:\n",
    "        count_others+=1\n",
    "        df_US.loc[i,'Political Affiliation'] = 'Others'\n",
    "print(count_demo)\n",
    "print(count_repub)\n",
    "print(count_others)"
   ]
  },
  {
   "cell_type": "code",
   "execution_count": 166,
   "metadata": {},
   "outputs": [
    {
     "data": {
      "text/html": [
       "<div>\n",
       "<style scoped>\n",
       "    .dataframe tbody tr th:only-of-type {\n",
       "        vertical-align: middle;\n",
       "    }\n",
       "\n",
       "    .dataframe tbody tr th {\n",
       "        vertical-align: top;\n",
       "    }\n",
       "\n",
       "    .dataframe thead th {\n",
       "        text-align: right;\n",
       "    }\n",
       "</style>\n",
       "<table border=\"1\" class=\"dataframe\">\n",
       "  <thead>\n",
       "    <tr style=\"text-align: right;\">\n",
       "      <th></th>\n",
       "      <th>text</th>\n",
       "      <th>sentiment</th>\n",
       "      <th>negative_reason</th>\n",
       "      <th>Political Affiliation</th>\n",
       "    </tr>\n",
       "  </thead>\n",
       "  <tbody>\n",
       "    <tr>\n",
       "      <th>0</th>\n",
       "      <td>afraid nov dec jan #bidenharris win frump mont...</td>\n",
       "      <td>0</td>\n",
       "      <td>covid19</td>\n",
       "      <td>Democratic Party</td>\n",
       "    </tr>\n",
       "    <tr>\n",
       "      <th>1</th>\n",
       "      <td>lord sumption launches recovery initiative pro...</td>\n",
       "      <td>0</td>\n",
       "      <td>others</td>\n",
       "      <td>Others</td>\n",
       "    </tr>\n",
       "    <tr>\n",
       "      <th>2</th>\n",
       "      <td>uber timing #biden advisors pressure #brazil s...</td>\n",
       "      <td>0</td>\n",
       "      <td>covid19</td>\n",
       "      <td>Others</td>\n",
       "    </tr>\n",
       "    <tr>\n",
       "      <th>3</th>\n",
       "      <td>seconds american dying #trumpvirus #donaldtrum...</td>\n",
       "      <td>1</td>\n",
       "      <td>NaN</td>\n",
       "      <td>Democratic Party</td>\n",
       "    </tr>\n",
       "    <tr>\n",
       "      <th>4</th>\n",
       "      <td>#democrats embrace #diversityandinclusion citi...</td>\n",
       "      <td>1</td>\n",
       "      <td>NaN</td>\n",
       "      <td>Others</td>\n",
       "    </tr>\n",
       "    <tr>\n",
       "      <th>5</th>\n",
       "      <td>accelerating rising #americans killed #trumpvirus</td>\n",
       "      <td>0</td>\n",
       "      <td>discrimination</td>\n",
       "      <td>Democratic Party</td>\n",
       "    </tr>\n",
       "    <tr>\n",
       "      <th>6</th>\n",
       "      <td>dead americans day times number died benghazi ...</td>\n",
       "      <td>0</td>\n",
       "      <td>discrimination</td>\n",
       "      <td>Others</td>\n",
       "    </tr>\n",
       "    <tr>\n",
       "      <th>7</th>\n",
       "      <td>#covid #coronavirus #coronavirusuk #covid #ukl...</td>\n",
       "      <td>1</td>\n",
       "      <td>NaN</td>\n",
       "      <td>Democratic Party</td>\n",
       "    </tr>\n",
       "    <tr>\n",
       "      <th>8</th>\n",
       "      <td>reason rallies losing</td>\n",
       "      <td>0</td>\n",
       "      <td>corruption</td>\n",
       "      <td>Others</td>\n",
       "    </tr>\n",
       "    <tr>\n",
       "      <th>9</th>\n",
       "      <td>concerned #hunterbiden trump ass kisser human ...</td>\n",
       "      <td>0</td>\n",
       "      <td>covid19</td>\n",
       "      <td>Republican Party</td>\n",
       "    </tr>\n",
       "  </tbody>\n",
       "</table>\n",
       "</div>"
      ],
      "text/plain": [
       "                                                text  sentiment  \\\n",
       "0  afraid nov dec jan #bidenharris win frump mont...          0   \n",
       "1  lord sumption launches recovery initiative pro...          0   \n",
       "2  uber timing #biden advisors pressure #brazil s...          0   \n",
       "3  seconds american dying #trumpvirus #donaldtrum...          1   \n",
       "4  #democrats embrace #diversityandinclusion citi...          1   \n",
       "5  accelerating rising #americans killed #trumpvirus          0   \n",
       "6  dead americans day times number died benghazi ...          0   \n",
       "7  #covid #coronavirus #coronavirusuk #covid #ukl...          1   \n",
       "8                              reason rallies losing          0   \n",
       "9  concerned #hunterbiden trump ass kisser human ...          0   \n",
       "\n",
       "  negative_reason Political Affiliation  \n",
       "0         covid19      Democratic Party  \n",
       "1          others                Others  \n",
       "2         covid19                Others  \n",
       "3             NaN      Democratic Party  \n",
       "4             NaN                Others  \n",
       "5  discrimination      Democratic Party  \n",
       "6  discrimination                Others  \n",
       "7             NaN      Democratic Party  \n",
       "8      corruption                Others  \n",
       "9         covid19      Republican Party  "
      ]
     },
     "execution_count": 166,
     "metadata": {},
     "output_type": "execute_result"
    }
   ],
   "source": [
    "df_US.head(10)"
   ]
  },
  {
   "cell_type": "code",
   "execution_count": 27,
   "metadata": {},
   "outputs": [
    {
     "data": {
      "text/plain": [
       "Text(0.5, 1.0, 'Distribution of the political affiliations')"
      ]
     },
     "execution_count": 27,
     "metadata": {},
     "output_type": "execute_result"
    },
    {
     "data": {
      "image/png": "[encoded data removed]",
      "text/plain": [
       "<Figure size 432x288 with 1 Axes>"
      ]
     },
     "metadata": {
      "needs_background": "light"
     },
     "output_type": "display_data"
    }
   ],
   "source": [
    "name_party = ['Republican Party','Democratic Party','Others']\n",
    "count_party = [count_repub,count_demo,count_others]\n",
    "plt.bar(name_party,count_party)\n",
    "plt.ylabel('count')\n",
    "plt.title('Distribution of the political affiliations')"
   ]
  },
  {
   "cell_type": "markdown",
   "metadata": {},
   "source": [
    "#### Democratic party has far more supporters than republican party."
   ]
  },
  {
   "cell_type": "markdown",
   "metadata": {},
   "source": [
    "#### plot the distribution of sentiment score for the 2020 US election tweets"
   ]
  },
  {
   "cell_type": "code",
   "execution_count": 28,
   "metadata": {},
   "outputs": [
    {
     "data": {
      "text/plain": [
       "Text(0.5, 1.0, 'sentiment score distribution for 2020 US election tweets')"
      ]
     },
     "execution_count": 28,
     "metadata": {},
     "output_type": "execute_result"
    },
    {
     "data": {
      "text/plain": [
       "<Figure size 864x432 with 0 Axes>"
      ]
     },
     "metadata": {},
     "output_type": "display_data"
    },
    {
     "data": {
      "image/png": "[encoded data removed]",
      "text/plain": [
       "<Figure size 432x288 with 1 Axes>"
      ]
     },
     "metadata": {
      "needs_background": "light"
     },
     "output_type": "display_data"
    }
   ],
   "source": [
    "fig = plt.figure(figsize=(12,6))\n",
    "df_US.hist('sentiment')\n",
    "plt.xlabel('sentiment score')\n",
    "plt.ylabel('counts')\n",
    "plt.title('sentiment score distribution for 2020 US election tweets')"
   ]
  },
  {
   "cell_type": "code",
   "execution_count": 29,
   "metadata": {},
   "outputs": [
    {
     "data": {
      "text/plain": [
       "1    1288\n",
       "0    1264\n",
       "Name: sentiment, dtype: int64"
      ]
     },
     "execution_count": 29,
     "metadata": {},
     "output_type": "execute_result"
    }
   ],
   "source": [
    "df_US.sentiment.value_counts()"
   ]
  },
  {
   "cell_type": "markdown",
   "metadata": {},
   "source": [
    "#### In 2020 US election tweets, positive tweets and negative tweets are almost evenly distributed, the number of positive tweets is slightly higher."
   ]
  },
  {
   "cell_type": "markdown",
   "metadata": {},
   "source": [
    "#### plot the distribution of sentiment score for the generic tweets"
   ]
  },
  {
   "cell_type": "code",
   "execution_count": 30,
   "metadata": {},
   "outputs": [
    {
     "data": {
      "text/plain": [
       "Text(0.5, 1.0, 'sentiment score distribution for generic tweets')"
      ]
     },
     "execution_count": 30,
     "metadata": {},
     "output_type": "execute_result"
    },
    {
     "data": {
      "text/plain": [
       "<Figure size 864x432 with 0 Axes>"
      ]
     },
     "metadata": {},
     "output_type": "display_data"
    },
    {
     "data": {
      "image/png": "[encoded data removed]",
      "text/plain": [
       "<Figure size 432x288 with 1 Axes>"
      ]
     },
     "metadata": {
      "needs_background": "light"
     },
     "output_type": "display_data"
    }
   ],
   "source": [
    "fig = plt.figure(figsize=(12,6))\n",
    "df_sentiment.hist('label')\n",
    "plt.xlabel('sentiment score')\n",
    "plt.ylabel('counts')\n",
    "plt.title('sentiment score distribution for generic tweets')"
   ]
  },
  {
   "cell_type": "code",
   "execution_count": 31,
   "metadata": {},
   "outputs": [
    {
     "data": {
      "text/plain": [
       "1    371341\n",
       "0    179050\n",
       "Name: label, dtype: int64"
      ]
     },
     "execution_count": 31,
     "metadata": {},
     "output_type": "execute_result"
    }
   ],
   "source": [
    "df_sentiment.label.value_counts()"
   ]
  },
  {
   "cell_type": "markdown",
   "metadata": {},
   "source": [
    "#### In generic tweets, the number of positive tweets is significantly higher than the number of negative tweets, meaning people generally post positive tweets."
   ]
  },
  {
   "cell_type": "markdown",
   "metadata": {},
   "source": [
    "## 3.0 Model preparation"
   ]
  },
  {
   "cell_type": "code",
   "execution_count": 46,
   "metadata": {},
   "outputs": [
    {
     "data": {
      "text/html": [
       "<div>\n",
       "<style scoped>\n",
       "    .dataframe tbody tr th:only-of-type {\n",
       "        vertical-align: middle;\n",
       "    }\n",
       "\n",
       "    .dataframe tbody tr th {\n",
       "        vertical-align: top;\n",
       "    }\n",
       "\n",
       "    .dataframe thead th {\n",
       "        text-align: right;\n",
       "    }\n",
       "</style>\n",
       "<table border=\"1\" class=\"dataframe\">\n",
       "  <thead>\n",
       "    <tr style=\"text-align: right;\">\n",
       "      <th></th>\n",
       "      <th>ID</th>\n",
       "      <th>text</th>\n",
       "      <th>label</th>\n",
       "    </tr>\n",
       "  </thead>\n",
       "  <tbody>\n",
       "    <tr>\n",
       "      <th>0</th>\n",
       "      <td>7.680980e+17</td>\n",
       "      <td>josh jenkins forward tab breeders crown super ...</td>\n",
       "      <td>1</td>\n",
       "    </tr>\n",
       "    <tr>\n",
       "      <th>1</th>\n",
       "      <td>7.680980e+17</td>\n",
       "      <td>mianusmanjaved congratulations pakistan notest...</td>\n",
       "      <td>1</td>\n",
       "    </tr>\n",
       "    <tr>\n",
       "      <th>2</th>\n",
       "      <td>7.680980e+17</td>\n",
       "      <td>pepalerts september yesmag maine mendozas surp...</td>\n",
       "      <td>1</td>\n",
       "    </tr>\n",
       "    <tr>\n",
       "      <th>3</th>\n",
       "      <td>7.680980e+17</td>\n",
       "      <td>davidgaibis newly painted walls custodial pain...</td>\n",
       "      <td>1</td>\n",
       "    </tr>\n",
       "    <tr>\n",
       "      <th>4</th>\n",
       "      <td>7.680980e+17</td>\n",
       "      <td>cedricfeschotte excited july  feschotte lab wi...</td>\n",
       "      <td>1</td>\n",
       "    </tr>\n",
       "  </tbody>\n",
       "</table>\n",
       "</div>"
      ],
      "text/plain": [
       "             ID                                               text  label\n",
       "0  7.680980e+17  josh jenkins forward tab breeders crown super ...      1\n",
       "1  7.680980e+17  mianusmanjaved congratulations pakistan notest...      1\n",
       "2  7.680980e+17  pepalerts september yesmag maine mendozas surp...      1\n",
       "3  7.680980e+17  davidgaibis newly painted walls custodial pain...      1\n",
       "4  7.680980e+17  cedricfeschotte excited july  feschotte lab wi...      1"
      ]
     },
     "execution_count": 46,
     "metadata": {},
     "output_type": "execute_result"
    }
   ],
   "source": [
    "df_sentiment.head()"
   ]
  },
  {
   "cell_type": "markdown",
   "metadata": {},
   "source": [
    "### 3.1 Represent text as TF (Bag of Words) and apply different algorithms"
   ]
  },
  {
   "cell_type": "code",
   "execution_count": 34,
   "metadata": {},
   "outputs": [],
   "source": [
    "from sklearn.feature_extraction.text import TfidfVectorizer\n",
    "\n",
    "def text_processing(text, is_tfidf):\n",
    "    vectorizer = TfidfVectorizer(stop_words = 'english', \n",
    "                                 use_idf = is_tfidf, \n",
    "                                 max_features = 500, \n",
    "                                 ngram_range = (1,1)).fit(text)\n",
    "    return vectorizer"
   ]
  },
  {
   "cell_type": "code",
   "execution_count": 35,
   "metadata": {},
   "outputs": [
    {
     "data": {
      "text/html": [
       "<div>\n",
       "<style scoped>\n",
       "    .dataframe tbody tr th:only-of-type {\n",
       "        vertical-align: middle;\n",
       "    }\n",
       "\n",
       "    .dataframe tbody tr th {\n",
       "        vertical-align: top;\n",
       "    }\n",
       "\n",
       "    .dataframe thead th {\n",
       "        text-align: right;\n",
       "    }\n",
       "</style>\n",
       "<table border=\"1\" class=\"dataframe\">\n",
       "  <thead>\n",
       "    <tr style=\"text-align: right;\">\n",
       "      <th></th>\n",
       "      <th>absolutely</th>\n",
       "      <th>account</th>\n",
       "      <th>adorable</th>\n",
       "      <th>af</th>\n",
       "      <th>ago</th>\n",
       "      <th>ain</th>\n",
       "      <th>album</th>\n",
       "      <th>aldub</th>\n",
       "      <th>amazing</th>\n",
       "      <th>america</th>\n",
       "      <th>...</th>\n",
       "      <th>worst</th>\n",
       "      <th>wow</th>\n",
       "      <th>wrong</th>\n",
       "      <th>wtf</th>\n",
       "      <th>ya</th>\n",
       "      <th>yeah</th>\n",
       "      <th>year</th>\n",
       "      <th>years</th>\n",
       "      <th>yesterday</th>\n",
       "      <th>young</th>\n",
       "    </tr>\n",
       "  </thead>\n",
       "  <tbody>\n",
       "    <tr>\n",
       "      <th>0</th>\n",
       "      <td>0.0</td>\n",
       "      <td>0.0</td>\n",
       "      <td>0.0</td>\n",
       "      <td>0.0</td>\n",
       "      <td>0.0</td>\n",
       "      <td>0.0</td>\n",
       "      <td>0.0</td>\n",
       "      <td>0.0</td>\n",
       "      <td>0.0</td>\n",
       "      <td>0.0</td>\n",
       "      <td>...</td>\n",
       "      <td>0.0</td>\n",
       "      <td>0.0</td>\n",
       "      <td>0.00000</td>\n",
       "      <td>0.0</td>\n",
       "      <td>0.0</td>\n",
       "      <td>0.0</td>\n",
       "      <td>0.0</td>\n",
       "      <td>0.0</td>\n",
       "      <td>0.0</td>\n",
       "      <td>0.0</td>\n",
       "    </tr>\n",
       "    <tr>\n",
       "      <th>1</th>\n",
       "      <td>0.0</td>\n",
       "      <td>0.0</td>\n",
       "      <td>0.0</td>\n",
       "      <td>0.0</td>\n",
       "      <td>0.0</td>\n",
       "      <td>0.0</td>\n",
       "      <td>0.0</td>\n",
       "      <td>0.0</td>\n",
       "      <td>0.0</td>\n",
       "      <td>0.0</td>\n",
       "      <td>...</td>\n",
       "      <td>0.0</td>\n",
       "      <td>0.0</td>\n",
       "      <td>0.00000</td>\n",
       "      <td>0.0</td>\n",
       "      <td>0.0</td>\n",
       "      <td>0.0</td>\n",
       "      <td>0.0</td>\n",
       "      <td>0.0</td>\n",
       "      <td>0.0</td>\n",
       "      <td>0.0</td>\n",
       "    </tr>\n",
       "    <tr>\n",
       "      <th>2</th>\n",
       "      <td>0.0</td>\n",
       "      <td>0.0</td>\n",
       "      <td>0.0</td>\n",
       "      <td>0.0</td>\n",
       "      <td>0.0</td>\n",
       "      <td>0.0</td>\n",
       "      <td>0.0</td>\n",
       "      <td>0.0</td>\n",
       "      <td>0.0</td>\n",
       "      <td>0.0</td>\n",
       "      <td>...</td>\n",
       "      <td>0.0</td>\n",
       "      <td>0.0</td>\n",
       "      <td>0.00000</td>\n",
       "      <td>0.0</td>\n",
       "      <td>0.0</td>\n",
       "      <td>0.0</td>\n",
       "      <td>0.0</td>\n",
       "      <td>0.0</td>\n",
       "      <td>0.0</td>\n",
       "      <td>0.0</td>\n",
       "    </tr>\n",
       "    <tr>\n",
       "      <th>3</th>\n",
       "      <td>0.0</td>\n",
       "      <td>0.0</td>\n",
       "      <td>0.0</td>\n",
       "      <td>0.0</td>\n",
       "      <td>0.0</td>\n",
       "      <td>0.0</td>\n",
       "      <td>0.0</td>\n",
       "      <td>0.0</td>\n",
       "      <td>0.0</td>\n",
       "      <td>0.0</td>\n",
       "      <td>...</td>\n",
       "      <td>0.0</td>\n",
       "      <td>0.0</td>\n",
       "      <td>0.00000</td>\n",
       "      <td>0.0</td>\n",
       "      <td>0.0</td>\n",
       "      <td>0.0</td>\n",
       "      <td>0.0</td>\n",
       "      <td>0.0</td>\n",
       "      <td>0.0</td>\n",
       "      <td>0.0</td>\n",
       "    </tr>\n",
       "    <tr>\n",
       "      <th>4</th>\n",
       "      <td>0.0</td>\n",
       "      <td>0.0</td>\n",
       "      <td>0.0</td>\n",
       "      <td>0.0</td>\n",
       "      <td>0.0</td>\n",
       "      <td>0.0</td>\n",
       "      <td>0.0</td>\n",
       "      <td>0.0</td>\n",
       "      <td>0.0</td>\n",
       "      <td>0.0</td>\n",
       "      <td>...</td>\n",
       "      <td>0.0</td>\n",
       "      <td>0.0</td>\n",
       "      <td>0.00000</td>\n",
       "      <td>0.0</td>\n",
       "      <td>0.0</td>\n",
       "      <td>0.0</td>\n",
       "      <td>0.0</td>\n",
       "      <td>0.0</td>\n",
       "      <td>0.0</td>\n",
       "      <td>0.0</td>\n",
       "    </tr>\n",
       "    <tr>\n",
       "      <th>...</th>\n",
       "      <td>...</td>\n",
       "      <td>...</td>\n",
       "      <td>...</td>\n",
       "      <td>...</td>\n",
       "      <td>...</td>\n",
       "      <td>...</td>\n",
       "      <td>...</td>\n",
       "      <td>...</td>\n",
       "      <td>...</td>\n",
       "      <td>...</td>\n",
       "      <td>...</td>\n",
       "      <td>...</td>\n",
       "      <td>...</td>\n",
       "      <td>...</td>\n",
       "      <td>...</td>\n",
       "      <td>...</td>\n",
       "      <td>...</td>\n",
       "      <td>...</td>\n",
       "      <td>...</td>\n",
       "      <td>...</td>\n",
       "      <td>...</td>\n",
       "    </tr>\n",
       "    <tr>\n",
       "      <th>550386</th>\n",
       "      <td>0.0</td>\n",
       "      <td>0.0</td>\n",
       "      <td>0.0</td>\n",
       "      <td>0.0</td>\n",
       "      <td>0.0</td>\n",
       "      <td>0.0</td>\n",
       "      <td>0.0</td>\n",
       "      <td>0.0</td>\n",
       "      <td>0.0</td>\n",
       "      <td>0.0</td>\n",
       "      <td>...</td>\n",
       "      <td>0.0</td>\n",
       "      <td>0.0</td>\n",
       "      <td>0.00000</td>\n",
       "      <td>0.0</td>\n",
       "      <td>0.0</td>\n",
       "      <td>0.0</td>\n",
       "      <td>0.0</td>\n",
       "      <td>0.0</td>\n",
       "      <td>0.0</td>\n",
       "      <td>0.0</td>\n",
       "    </tr>\n",
       "    <tr>\n",
       "      <th>550387</th>\n",
       "      <td>0.0</td>\n",
       "      <td>0.0</td>\n",
       "      <td>0.0</td>\n",
       "      <td>0.0</td>\n",
       "      <td>0.0</td>\n",
       "      <td>0.0</td>\n",
       "      <td>0.0</td>\n",
       "      <td>0.0</td>\n",
       "      <td>0.0</td>\n",
       "      <td>0.0</td>\n",
       "      <td>...</td>\n",
       "      <td>0.0</td>\n",
       "      <td>0.0</td>\n",
       "      <td>0.57735</td>\n",
       "      <td>0.0</td>\n",
       "      <td>0.0</td>\n",
       "      <td>0.0</td>\n",
       "      <td>0.0</td>\n",
       "      <td>0.0</td>\n",
       "      <td>0.0</td>\n",
       "      <td>0.0</td>\n",
       "    </tr>\n",
       "    <tr>\n",
       "      <th>550388</th>\n",
       "      <td>0.0</td>\n",
       "      <td>0.0</td>\n",
       "      <td>0.0</td>\n",
       "      <td>0.0</td>\n",
       "      <td>0.0</td>\n",
       "      <td>0.0</td>\n",
       "      <td>0.0</td>\n",
       "      <td>0.0</td>\n",
       "      <td>0.0</td>\n",
       "      <td>0.0</td>\n",
       "      <td>...</td>\n",
       "      <td>0.0</td>\n",
       "      <td>0.0</td>\n",
       "      <td>0.00000</td>\n",
       "      <td>0.0</td>\n",
       "      <td>0.0</td>\n",
       "      <td>0.0</td>\n",
       "      <td>0.0</td>\n",
       "      <td>0.0</td>\n",
       "      <td>0.0</td>\n",
       "      <td>0.0</td>\n",
       "    </tr>\n",
       "    <tr>\n",
       "      <th>550389</th>\n",
       "      <td>0.0</td>\n",
       "      <td>0.0</td>\n",
       "      <td>0.0</td>\n",
       "      <td>0.0</td>\n",
       "      <td>0.0</td>\n",
       "      <td>0.0</td>\n",
       "      <td>0.0</td>\n",
       "      <td>0.0</td>\n",
       "      <td>0.0</td>\n",
       "      <td>0.0</td>\n",
       "      <td>...</td>\n",
       "      <td>0.0</td>\n",
       "      <td>0.0</td>\n",
       "      <td>0.00000</td>\n",
       "      <td>0.0</td>\n",
       "      <td>0.0</td>\n",
       "      <td>0.0</td>\n",
       "      <td>0.0</td>\n",
       "      <td>0.0</td>\n",
       "      <td>0.0</td>\n",
       "      <td>0.0</td>\n",
       "    </tr>\n",
       "    <tr>\n",
       "      <th>550390</th>\n",
       "      <td>0.0</td>\n",
       "      <td>0.0</td>\n",
       "      <td>0.0</td>\n",
       "      <td>0.0</td>\n",
       "      <td>0.0</td>\n",
       "      <td>0.0</td>\n",
       "      <td>0.0</td>\n",
       "      <td>0.0</td>\n",
       "      <td>0.0</td>\n",
       "      <td>0.0</td>\n",
       "      <td>...</td>\n",
       "      <td>0.0</td>\n",
       "      <td>0.0</td>\n",
       "      <td>0.00000</td>\n",
       "      <td>0.0</td>\n",
       "      <td>0.0</td>\n",
       "      <td>0.0</td>\n",
       "      <td>0.0</td>\n",
       "      <td>0.0</td>\n",
       "      <td>0.0</td>\n",
       "      <td>0.0</td>\n",
       "    </tr>\n",
       "  </tbody>\n",
       "</table>\n",
       "<p>550391 rows × 500 columns</p>\n",
       "</div>"
      ],
      "text/plain": [
       "        absolutely  account  adorable   af  ago  ain  album  aldub  amazing  \\\n",
       "0              0.0      0.0       0.0  0.0  0.0  0.0    0.0    0.0      0.0   \n",
       "1              0.0      0.0       0.0  0.0  0.0  0.0    0.0    0.0      0.0   \n",
       "2              0.0      0.0       0.0  0.0  0.0  0.0    0.0    0.0      0.0   \n",
       "3              0.0      0.0       0.0  0.0  0.0  0.0    0.0    0.0      0.0   \n",
       "4              0.0      0.0       0.0  0.0  0.0  0.0    0.0    0.0      0.0   \n",
       "...            ...      ...       ...  ...  ...  ...    ...    ...      ...   \n",
       "550386         0.0      0.0       0.0  0.0  0.0  0.0    0.0    0.0      0.0   \n",
       "550387         0.0      0.0       0.0  0.0  0.0  0.0    0.0    0.0      0.0   \n",
       "550388         0.0      0.0       0.0  0.0  0.0  0.0    0.0    0.0      0.0   \n",
       "550389         0.0      0.0       0.0  0.0  0.0  0.0    0.0    0.0      0.0   \n",
       "550390         0.0      0.0       0.0  0.0  0.0  0.0    0.0    0.0      0.0   \n",
       "\n",
       "        america  ...  worst  wow    wrong  wtf   ya  yeah  year  years  \\\n",
       "0           0.0  ...    0.0  0.0  0.00000  0.0  0.0   0.0   0.0    0.0   \n",
       "1           0.0  ...    0.0  0.0  0.00000  0.0  0.0   0.0   0.0    0.0   \n",
       "2           0.0  ...    0.0  0.0  0.00000  0.0  0.0   0.0   0.0    0.0   \n",
       "3           0.0  ...    0.0  0.0  0.00000  0.0  0.0   0.0   0.0    0.0   \n",
       "4           0.0  ...    0.0  0.0  0.00000  0.0  0.0   0.0   0.0    0.0   \n",
       "...         ...  ...    ...  ...      ...  ...  ...   ...   ...    ...   \n",
       "550386      0.0  ...    0.0  0.0  0.00000  0.0  0.0   0.0   0.0    0.0   \n",
       "550387      0.0  ...    0.0  0.0  0.57735  0.0  0.0   0.0   0.0    0.0   \n",
       "550388      0.0  ...    0.0  0.0  0.00000  0.0  0.0   0.0   0.0    0.0   \n",
       "550389      0.0  ...    0.0  0.0  0.00000  0.0  0.0   0.0   0.0    0.0   \n",
       "550390      0.0  ...    0.0  0.0  0.00000  0.0  0.0   0.0   0.0    0.0   \n",
       "\n",
       "        yesterday  young  \n",
       "0             0.0    0.0  \n",
       "1             0.0    0.0  \n",
       "2             0.0    0.0  \n",
       "3             0.0    0.0  \n",
       "4             0.0    0.0  \n",
       "...           ...    ...  \n",
       "550386        0.0    0.0  \n",
       "550387        0.0    0.0  \n",
       "550388        0.0    0.0  \n",
       "550389        0.0    0.0  \n",
       "550390        0.0    0.0  \n",
       "\n",
       "[550391 rows x 500 columns]"
      ]
     },
     "execution_count": 35,
     "metadata": {},
     "output_type": "execute_result"
    }
   ],
   "source": [
    "vectorizer = text_processing(df_sentiment['text'], False) #False indicates TF\n",
    "X_tf = vectorizer.transform(df_sentiment['text'])\n",
    "y = df_sentiment.label\n",
    "pd.DataFrame(data=X_tf.toarray(),columns=vectorizer.get_feature_names())"
   ]
  },
  {
   "cell_type": "code",
   "execution_count": 37,
   "metadata": {},
   "outputs": [],
   "source": [
    "#split data\n",
    "from sklearn.model_selection import train_test_split\n",
    "X_train_tf, X_test_tf, y_train, y_test = train_test_split(X_tf,y,test_size=0.3,random_state=42)"
   ]
  },
  {
   "cell_type": "code",
   "execution_count": 38,
   "metadata": {},
   "outputs": [],
   "source": [
    "#split the train data again to reduce the running time\n",
    "X_train1, X_test1, y_train1, y_test1 = train_test_split(X_train_tf,y_train,test_size=0.3,random_state=42)"
   ]
  },
  {
   "cell_type": "code",
   "execution_count": 40,
   "metadata": {},
   "outputs": [
    {
     "data": {
      "text/plain": [
       "LogisticRegression(max_iter=386000)"
      ]
     },
     "execution_count": 40,
     "metadata": {},
     "output_type": "execute_result"
    }
   ],
   "source": [
    "#apply logistic regression\n",
    "from sklearn.linear_model import LogisticRegression\n",
    "log_tf = LogisticRegression(max_iter=386000)\n",
    "log_tf.fit(X_train1,y_train1)"
   ]
  },
  {
   "cell_type": "code",
   "execution_count": 43,
   "metadata": {},
   "outputs": [
    {
     "data": {
      "text/plain": [
       "KNeighborsClassifier(metric='euclidean', n_neighbors=519)"
      ]
     },
     "execution_count": 43,
     "metadata": {},
     "output_type": "execute_result"
    }
   ],
   "source": [
    "#apply knn\n",
    "from sklearn.neighbors import KNeighborsClassifier\n",
    "# set initial n as the squareroot of the training size\n",
    "knn_tf = KNeighborsClassifier(n_neighbors=int(np.sqrt(X_train1.shape[0])), p=2, metric='euclidean')\n",
    "knn_tf.fit(X_train1,y_train1)"
   ]
  },
  {
   "cell_type": "code",
   "execution_count": 45,
   "metadata": {},
   "outputs": [
    {
     "data": {
      "text/plain": [
       "GaussianNB()"
      ]
     },
     "execution_count": 45,
     "metadata": {},
     "output_type": "execute_result"
    }
   ],
   "source": [
    "#apply Naive Bayes\n",
    "from sklearn.naive_bayes import GaussianNB\n",
    "nb_tf = GaussianNB()\n",
    "nb_tf.fit(X_train1.toarray(), y_train1)"
   ]
  },
  {
   "cell_type": "code",
   "execution_count": 77,
   "metadata": {},
   "outputs": [
    {
     "data": {
      "text/plain": [
       "SVC(gamma='auto')"
      ]
     },
     "execution_count": 77,
     "metadata": {},
     "output_type": "execute_result"
    }
   ],
   "source": [
    "#apply SVM\n",
    "from sklearn.svm import SVC\n",
    "svm_tf = SVC(gamma='auto')\n",
    "svm_tf.fit(X_train1, y_train1)"
   ]
  },
  {
   "cell_type": "code",
   "execution_count": 48,
   "metadata": {},
   "outputs": [
    {
     "data": {
      "text/plain": [
       "DecisionTreeClassifier()"
      ]
     },
     "execution_count": 48,
     "metadata": {},
     "output_type": "execute_result"
    }
   ],
   "source": [
    "#apply decision tree\n",
    "from sklearn.tree import DecisionTreeClassifier\n",
    "tree_tf = DecisionTreeClassifier()\n",
    "tree_tf.fit(X_train1, y_train1)"
   ]
  },
  {
   "cell_type": "code",
   "execution_count": 87,
   "metadata": {},
   "outputs": [
    {
     "data": {
      "text/plain": [
       "RandomForestClassifier()"
      ]
     },
     "execution_count": 87,
     "metadata": {},
     "output_type": "execute_result"
    }
   ],
   "source": [
    "#apply random forest\n",
    "from sklearn.ensemble import RandomForestClassifier\n",
    "rf_tf = RandomForestClassifier()\n",
    "rf_tf.fit(X_train1, y_train1)"
   ]
  },
  {
   "cell_type": "code",
   "execution_count": 57,
   "metadata": {},
   "outputs": [
    {
     "data": {
      "text/plain": [
       "GradientBoostingClassifier()"
      ]
     },
     "execution_count": 57,
     "metadata": {},
     "output_type": "execute_result"
    }
   ],
   "source": [
    "#apply gradient boosting method\n",
    "from sklearn.ensemble import GradientBoostingClassifier # I didn't use XGboost here because\n",
    "                                                        # I cannot install it on My Mac...\n",
    "gb_tfidf = GradientBoostingClassifier()\n",
    "gb_tfidf.fit(X_train1, y_train1)"
   ]
  },
  {
   "cell_type": "markdown",
   "metadata": {},
   "source": [
    "### 3.2 Represent text as TF-IDF and apply different algorithms"
   ]
  },
  {
   "cell_type": "code",
   "execution_count": 59,
   "metadata": {},
   "outputs": [
    {
     "data": {
      "text/html": [
       "<div>\n",
       "<style scoped>\n",
       "    .dataframe tbody tr th:only-of-type {\n",
       "        vertical-align: middle;\n",
       "    }\n",
       "\n",
       "    .dataframe tbody tr th {\n",
       "        vertical-align: top;\n",
       "    }\n",
       "\n",
       "    .dataframe thead th {\n",
       "        text-align: right;\n",
       "    }\n",
       "</style>\n",
       "<table border=\"1\" class=\"dataframe\">\n",
       "  <thead>\n",
       "    <tr style=\"text-align: right;\">\n",
       "      <th></th>\n",
       "      <th>absolutely</th>\n",
       "      <th>account</th>\n",
       "      <th>adorable</th>\n",
       "      <th>af</th>\n",
       "      <th>ago</th>\n",
       "      <th>ain</th>\n",
       "      <th>album</th>\n",
       "      <th>aldub</th>\n",
       "      <th>amazing</th>\n",
       "      <th>america</th>\n",
       "      <th>...</th>\n",
       "      <th>worst</th>\n",
       "      <th>wow</th>\n",
       "      <th>wrong</th>\n",
       "      <th>wtf</th>\n",
       "      <th>ya</th>\n",
       "      <th>yeah</th>\n",
       "      <th>year</th>\n",
       "      <th>years</th>\n",
       "      <th>yesterday</th>\n",
       "      <th>young</th>\n",
       "    </tr>\n",
       "  </thead>\n",
       "  <tbody>\n",
       "    <tr>\n",
       "      <th>0</th>\n",
       "      <td>0.0</td>\n",
       "      <td>0.0</td>\n",
       "      <td>0.0</td>\n",
       "      <td>0.0</td>\n",
       "      <td>0.0</td>\n",
       "      <td>0.0</td>\n",
       "      <td>0.0</td>\n",
       "      <td>0.0</td>\n",
       "      <td>0.0</td>\n",
       "      <td>0.0</td>\n",
       "      <td>...</td>\n",
       "      <td>0.0</td>\n",
       "      <td>0.0</td>\n",
       "      <td>0.000000</td>\n",
       "      <td>0.0</td>\n",
       "      <td>0.0</td>\n",
       "      <td>0.0</td>\n",
       "      <td>0.0</td>\n",
       "      <td>0.0</td>\n",
       "      <td>0.0</td>\n",
       "      <td>0.0</td>\n",
       "    </tr>\n",
       "    <tr>\n",
       "      <th>1</th>\n",
       "      <td>0.0</td>\n",
       "      <td>0.0</td>\n",
       "      <td>0.0</td>\n",
       "      <td>0.0</td>\n",
       "      <td>0.0</td>\n",
       "      <td>0.0</td>\n",
       "      <td>0.0</td>\n",
       "      <td>0.0</td>\n",
       "      <td>0.0</td>\n",
       "      <td>0.0</td>\n",
       "      <td>...</td>\n",
       "      <td>0.0</td>\n",
       "      <td>0.0</td>\n",
       "      <td>0.000000</td>\n",
       "      <td>0.0</td>\n",
       "      <td>0.0</td>\n",
       "      <td>0.0</td>\n",
       "      <td>0.0</td>\n",
       "      <td>0.0</td>\n",
       "      <td>0.0</td>\n",
       "      <td>0.0</td>\n",
       "    </tr>\n",
       "    <tr>\n",
       "      <th>2</th>\n",
       "      <td>0.0</td>\n",
       "      <td>0.0</td>\n",
       "      <td>0.0</td>\n",
       "      <td>0.0</td>\n",
       "      <td>0.0</td>\n",
       "      <td>0.0</td>\n",
       "      <td>0.0</td>\n",
       "      <td>0.0</td>\n",
       "      <td>0.0</td>\n",
       "      <td>0.0</td>\n",
       "      <td>...</td>\n",
       "      <td>0.0</td>\n",
       "      <td>0.0</td>\n",
       "      <td>0.000000</td>\n",
       "      <td>0.0</td>\n",
       "      <td>0.0</td>\n",
       "      <td>0.0</td>\n",
       "      <td>0.0</td>\n",
       "      <td>0.0</td>\n",
       "      <td>0.0</td>\n",
       "      <td>0.0</td>\n",
       "    </tr>\n",
       "    <tr>\n",
       "      <th>3</th>\n",
       "      <td>0.0</td>\n",
       "      <td>0.0</td>\n",
       "      <td>0.0</td>\n",
       "      <td>0.0</td>\n",
       "      <td>0.0</td>\n",
       "      <td>0.0</td>\n",
       "      <td>0.0</td>\n",
       "      <td>0.0</td>\n",
       "      <td>0.0</td>\n",
       "      <td>0.0</td>\n",
       "      <td>...</td>\n",
       "      <td>0.0</td>\n",
       "      <td>0.0</td>\n",
       "      <td>0.000000</td>\n",
       "      <td>0.0</td>\n",
       "      <td>0.0</td>\n",
       "      <td>0.0</td>\n",
       "      <td>0.0</td>\n",
       "      <td>0.0</td>\n",
       "      <td>0.0</td>\n",
       "      <td>0.0</td>\n",
       "    </tr>\n",
       "    <tr>\n",
       "      <th>4</th>\n",
       "      <td>0.0</td>\n",
       "      <td>0.0</td>\n",
       "      <td>0.0</td>\n",
       "      <td>0.0</td>\n",
       "      <td>0.0</td>\n",
       "      <td>0.0</td>\n",
       "      <td>0.0</td>\n",
       "      <td>0.0</td>\n",
       "      <td>0.0</td>\n",
       "      <td>0.0</td>\n",
       "      <td>...</td>\n",
       "      <td>0.0</td>\n",
       "      <td>0.0</td>\n",
       "      <td>0.000000</td>\n",
       "      <td>0.0</td>\n",
       "      <td>0.0</td>\n",
       "      <td>0.0</td>\n",
       "      <td>0.0</td>\n",
       "      <td>0.0</td>\n",
       "      <td>0.0</td>\n",
       "      <td>0.0</td>\n",
       "    </tr>\n",
       "    <tr>\n",
       "      <th>...</th>\n",
       "      <td>...</td>\n",
       "      <td>...</td>\n",
       "      <td>...</td>\n",
       "      <td>...</td>\n",
       "      <td>...</td>\n",
       "      <td>...</td>\n",
       "      <td>...</td>\n",
       "      <td>...</td>\n",
       "      <td>...</td>\n",
       "      <td>...</td>\n",
       "      <td>...</td>\n",
       "      <td>...</td>\n",
       "      <td>...</td>\n",
       "      <td>...</td>\n",
       "      <td>...</td>\n",
       "      <td>...</td>\n",
       "      <td>...</td>\n",
       "      <td>...</td>\n",
       "      <td>...</td>\n",
       "      <td>...</td>\n",
       "      <td>...</td>\n",
       "    </tr>\n",
       "    <tr>\n",
       "      <th>550386</th>\n",
       "      <td>0.0</td>\n",
       "      <td>0.0</td>\n",
       "      <td>0.0</td>\n",
       "      <td>0.0</td>\n",
       "      <td>0.0</td>\n",
       "      <td>0.0</td>\n",
       "      <td>0.0</td>\n",
       "      <td>0.0</td>\n",
       "      <td>0.0</td>\n",
       "      <td>0.0</td>\n",
       "      <td>...</td>\n",
       "      <td>0.0</td>\n",
       "      <td>0.0</td>\n",
       "      <td>0.000000</td>\n",
       "      <td>0.0</td>\n",
       "      <td>0.0</td>\n",
       "      <td>0.0</td>\n",
       "      <td>0.0</td>\n",
       "      <td>0.0</td>\n",
       "      <td>0.0</td>\n",
       "      <td>0.0</td>\n",
       "    </tr>\n",
       "    <tr>\n",
       "      <th>550387</th>\n",
       "      <td>0.0</td>\n",
       "      <td>0.0</td>\n",
       "      <td>0.0</td>\n",
       "      <td>0.0</td>\n",
       "      <td>0.0</td>\n",
       "      <td>0.0</td>\n",
       "      <td>0.0</td>\n",
       "      <td>0.0</td>\n",
       "      <td>0.0</td>\n",
       "      <td>0.0</td>\n",
       "      <td>...</td>\n",
       "      <td>0.0</td>\n",
       "      <td>0.0</td>\n",
       "      <td>0.560836</td>\n",
       "      <td>0.0</td>\n",
       "      <td>0.0</td>\n",
       "      <td>0.0</td>\n",
       "      <td>0.0</td>\n",
       "      <td>0.0</td>\n",
       "      <td>0.0</td>\n",
       "      <td>0.0</td>\n",
       "    </tr>\n",
       "    <tr>\n",
       "      <th>550388</th>\n",
       "      <td>0.0</td>\n",
       "      <td>0.0</td>\n",
       "      <td>0.0</td>\n",
       "      <td>0.0</td>\n",
       "      <td>0.0</td>\n",
       "      <td>0.0</td>\n",
       "      <td>0.0</td>\n",
       "      <td>0.0</td>\n",
       "      <td>0.0</td>\n",
       "      <td>0.0</td>\n",
       "      <td>...</td>\n",
       "      <td>0.0</td>\n",
       "      <td>0.0</td>\n",
       "      <td>0.000000</td>\n",
       "      <td>0.0</td>\n",
       "      <td>0.0</td>\n",
       "      <td>0.0</td>\n",
       "      <td>0.0</td>\n",
       "      <td>0.0</td>\n",
       "      <td>0.0</td>\n",
       "      <td>0.0</td>\n",
       "    </tr>\n",
       "    <tr>\n",
       "      <th>550389</th>\n",
       "      <td>0.0</td>\n",
       "      <td>0.0</td>\n",
       "      <td>0.0</td>\n",
       "      <td>0.0</td>\n",
       "      <td>0.0</td>\n",
       "      <td>0.0</td>\n",
       "      <td>0.0</td>\n",
       "      <td>0.0</td>\n",
       "      <td>0.0</td>\n",
       "      <td>0.0</td>\n",
       "      <td>...</td>\n",
       "      <td>0.0</td>\n",
       "      <td>0.0</td>\n",
       "      <td>0.000000</td>\n",
       "      <td>0.0</td>\n",
       "      <td>0.0</td>\n",
       "      <td>0.0</td>\n",
       "      <td>0.0</td>\n",
       "      <td>0.0</td>\n",
       "      <td>0.0</td>\n",
       "      <td>0.0</td>\n",
       "    </tr>\n",
       "    <tr>\n",
       "      <th>550390</th>\n",
       "      <td>0.0</td>\n",
       "      <td>0.0</td>\n",
       "      <td>0.0</td>\n",
       "      <td>0.0</td>\n",
       "      <td>0.0</td>\n",
       "      <td>0.0</td>\n",
       "      <td>0.0</td>\n",
       "      <td>0.0</td>\n",
       "      <td>0.0</td>\n",
       "      <td>0.0</td>\n",
       "      <td>...</td>\n",
       "      <td>0.0</td>\n",
       "      <td>0.0</td>\n",
       "      <td>0.000000</td>\n",
       "      <td>0.0</td>\n",
       "      <td>0.0</td>\n",
       "      <td>0.0</td>\n",
       "      <td>0.0</td>\n",
       "      <td>0.0</td>\n",
       "      <td>0.0</td>\n",
       "      <td>0.0</td>\n",
       "    </tr>\n",
       "  </tbody>\n",
       "</table>\n",
       "<p>550391 rows × 500 columns</p>\n",
       "</div>"
      ],
      "text/plain": [
       "        absolutely  account  adorable   af  ago  ain  album  aldub  amazing  \\\n",
       "0              0.0      0.0       0.0  0.0  0.0  0.0    0.0    0.0      0.0   \n",
       "1              0.0      0.0       0.0  0.0  0.0  0.0    0.0    0.0      0.0   \n",
       "2              0.0      0.0       0.0  0.0  0.0  0.0    0.0    0.0      0.0   \n",
       "3              0.0      0.0       0.0  0.0  0.0  0.0    0.0    0.0      0.0   \n",
       "4              0.0      0.0       0.0  0.0  0.0  0.0    0.0    0.0      0.0   \n",
       "...            ...      ...       ...  ...  ...  ...    ...    ...      ...   \n",
       "550386         0.0      0.0       0.0  0.0  0.0  0.0    0.0    0.0      0.0   \n",
       "550387         0.0      0.0       0.0  0.0  0.0  0.0    0.0    0.0      0.0   \n",
       "550388         0.0      0.0       0.0  0.0  0.0  0.0    0.0    0.0      0.0   \n",
       "550389         0.0      0.0       0.0  0.0  0.0  0.0    0.0    0.0      0.0   \n",
       "550390         0.0      0.0       0.0  0.0  0.0  0.0    0.0    0.0      0.0   \n",
       "\n",
       "        america  ...  worst  wow     wrong  wtf   ya  yeah  year  years  \\\n",
       "0           0.0  ...    0.0  0.0  0.000000  0.0  0.0   0.0   0.0    0.0   \n",
       "1           0.0  ...    0.0  0.0  0.000000  0.0  0.0   0.0   0.0    0.0   \n",
       "2           0.0  ...    0.0  0.0  0.000000  0.0  0.0   0.0   0.0    0.0   \n",
       "3           0.0  ...    0.0  0.0  0.000000  0.0  0.0   0.0   0.0    0.0   \n",
       "4           0.0  ...    0.0  0.0  0.000000  0.0  0.0   0.0   0.0    0.0   \n",
       "...         ...  ...    ...  ...       ...  ...  ...   ...   ...    ...   \n",
       "550386      0.0  ...    0.0  0.0  0.000000  0.0  0.0   0.0   0.0    0.0   \n",
       "550387      0.0  ...    0.0  0.0  0.560836  0.0  0.0   0.0   0.0    0.0   \n",
       "550388      0.0  ...    0.0  0.0  0.000000  0.0  0.0   0.0   0.0    0.0   \n",
       "550389      0.0  ...    0.0  0.0  0.000000  0.0  0.0   0.0   0.0    0.0   \n",
       "550390      0.0  ...    0.0  0.0  0.000000  0.0  0.0   0.0   0.0    0.0   \n",
       "\n",
       "        yesterday  young  \n",
       "0             0.0    0.0  \n",
       "1             0.0    0.0  \n",
       "2             0.0    0.0  \n",
       "3             0.0    0.0  \n",
       "4             0.0    0.0  \n",
       "...           ...    ...  \n",
       "550386        0.0    0.0  \n",
       "550387        0.0    0.0  \n",
       "550388        0.0    0.0  \n",
       "550389        0.0    0.0  \n",
       "550390        0.0    0.0  \n",
       "\n",
       "[550391 rows x 500 columns]"
      ]
     },
     "execution_count": 59,
     "metadata": {},
     "output_type": "execute_result"
    }
   ],
   "source": [
    "vectorizer = text_processing(df_sentiment['text'], True) #False indicates TF-IDF\n",
    "X_tfidf = vectorizer.transform(df_sentiment['text'])\n",
    "y = df_sentiment.label\n",
    "pd.DataFrame(data=X_tfidf.toarray(),columns=vectorizer.get_feature_names())"
   ]
  },
  {
   "cell_type": "code",
   "execution_count": 60,
   "metadata": {},
   "outputs": [],
   "source": [
    "#split data\n",
    "from sklearn.model_selection import train_test_split\n",
    "X_train_tfidf, X_test_tfidf, y_train, y_test = train_test_split(X_tfidf,y,test_size=0.3,random_state=42)"
   ]
  },
  {
   "cell_type": "code",
   "execution_count": 61,
   "metadata": {},
   "outputs": [],
   "source": [
    "#split the train data again to reduce the running time\n",
    "X_train2, X_test2, y_train2, y_test2 = train_test_split(X_train_tfidf,y_train,test_size=0.3,random_state=42)"
   ]
  },
  {
   "cell_type": "code",
   "execution_count": 63,
   "metadata": {},
   "outputs": [
    {
     "data": {
      "text/plain": [
       "LogisticRegression(max_iter=386000)"
      ]
     },
     "execution_count": 63,
     "metadata": {},
     "output_type": "execute_result"
    }
   ],
   "source": [
    "#apply logistic regression\n",
    "from sklearn.linear_model import LogisticRegression\n",
    "log_tfidf = LogisticRegression(max_iter=386000)\n",
    "log_tfidf.fit(X_train2,y_train2)"
   ]
  },
  {
   "cell_type": "code",
   "execution_count": 122,
   "metadata": {},
   "outputs": [
    {
     "data": {
      "text/plain": [
       "KNeighborsClassifier(metric='euclidean', n_neighbors=519)"
      ]
     },
     "execution_count": 122,
     "metadata": {},
     "output_type": "execute_result"
    }
   ],
   "source": [
    "#apply knn\n",
    "from sklearn.neighbors import KNeighborsClassifier\n",
    "knn_tfidf = KNeighborsClassifier(n_neighbors=int(np.sqrt(X_train2.shape[0])), p=2, metric='euclidean')\n",
    "knn_tfidf.fit(X_train2,y_train2)"
   ]
  },
  {
   "cell_type": "code",
   "execution_count": 65,
   "metadata": {},
   "outputs": [
    {
     "data": {
      "text/plain": [
       "GaussianNB()"
      ]
     },
     "execution_count": 65,
     "metadata": {},
     "output_type": "execute_result"
    }
   ],
   "source": [
    "#apply Naive Bayes\n",
    "from sklearn.naive_bayes import GaussianNB\n",
    "nb_tfidf = GaussianNB()\n",
    "nb_tfidf.fit(X_train2.toarray(), y_train2)"
   ]
  },
  {
   "cell_type": "code",
   "execution_count": 78,
   "metadata": {},
   "outputs": [
    {
     "data": {
      "text/plain": [
       "SVC(gamma='auto')"
      ]
     },
     "execution_count": 78,
     "metadata": {},
     "output_type": "execute_result"
    }
   ],
   "source": [
    "#apply SVM\n",
    "from sklearn.svm import SVC\n",
    "svm_tfidf = SVC(gamma='auto')\n",
    "svm_tfidf.fit(X_train2, y_train2)"
   ]
  },
  {
   "cell_type": "code",
   "execution_count": 66,
   "metadata": {},
   "outputs": [
    {
     "data": {
      "text/plain": [
       "DecisionTreeClassifier()"
      ]
     },
     "execution_count": 66,
     "metadata": {},
     "output_type": "execute_result"
    }
   ],
   "source": [
    "#apply decision tree\n",
    "from sklearn.tree import DecisionTreeClassifier\n",
    "tree_tfidf = DecisionTreeClassifier()\n",
    "tree_tfidf.fit(X_train2, y_train2)"
   ]
  },
  {
   "cell_type": "code",
   "execution_count": 88,
   "metadata": {},
   "outputs": [
    {
     "data": {
      "text/plain": [
       "RandomForestClassifier()"
      ]
     },
     "execution_count": 88,
     "metadata": {},
     "output_type": "execute_result"
    }
   ],
   "source": [
    "#apply random forest\n",
    "from sklearn.ensemble import RandomForestClassifier\n",
    "rf_tfidf = RandomForestClassifier()\n",
    "rf_tfidf.fit(X_train2, y_train2)"
   ]
  },
  {
   "cell_type": "code",
   "execution_count": 137,
   "metadata": {},
   "outputs": [
    {
     "data": {
      "text/plain": [
       "GradientBoostingClassifier()"
      ]
     },
     "execution_count": 137,
     "metadata": {},
     "output_type": "execute_result"
    }
   ],
   "source": [
    "#apply gradient boosting method\n",
    "from sklearn.ensemble import GradientBoostingClassifier  # I didn't use XGboost here because\n",
    "                                                        # I cannot install it on My Mac...\n",
    "gb_tfidf = GradientBoostingClassifier()\n",
    "gb_tfidf.fit(X_train2, y_train2)"
   ]
  },
  {
   "cell_type": "markdown",
   "metadata": {},
   "source": [
    "## 4.0 Model implementation"
   ]
  },
  {
   "cell_type": "markdown",
   "metadata": {},
   "source": [
    "### 4.1 Accuracy of different algorithms for Bag of Words method"
   ]
  },
  {
   "cell_type": "code",
   "execution_count": 42,
   "metadata": {},
   "outputs": [
    {
     "name": "stdout",
     "output_type": "stream",
     "text": [
      "Test accuracy for logistic regression using bag of words is 89.75096597584758\n"
     ]
    }
   ],
   "source": [
    "#accuracy for logistic regression using bag of words\n",
    "from sklearn.metrics import accuracy_score\n",
    "predictions = log_tf.predict(X_test_tf)\n",
    "score = accuracy_score(y_test,predictions)\n",
    "print ('Test accuracy for logistic regression using bag of words is {}'.format(score*100))"
   ]
  },
  {
   "cell_type": "code",
   "execution_count": 44,
   "metadata": {},
   "outputs": [
    {
     "name": "stdout",
     "output_type": "stream",
     "text": [
      "Test accuracy for knn is 82.73053210431328\n"
     ]
    }
   ],
   "source": [
    "#accuracy for knn using bag of words\n",
    "predictions = knn_tf.predict(X_test_tf)\n",
    "score = accuracy_score(y_test,predictions)\n",
    "print ('Test accuracy for knn using bag of words is {}'.format(score*100))"
   ]
  },
  {
   "cell_type": "code",
   "execution_count": 47,
   "metadata": {},
   "outputs": [
    {
     "name": "stdout",
     "output_type": "stream",
     "text": [
      "Test accuracy for Naive Bayes using bag of words is 84.67035695684298\n"
     ]
    }
   ],
   "source": [
    "#accuracy for Naive Bayes using bag of words\n",
    "predictions = nb_tf.predict(X_test_tf.toarray())\n",
    "score = accuracy_score(y_test,predictions)\n",
    "print ('Test accuracy for Naive Bayes using bag of words is {}'.format(score*100))"
   ]
  },
  {
   "cell_type": "code",
   "execution_count": 79,
   "metadata": {},
   "outputs": [
    {
     "name": "stdout",
     "output_type": "stream",
     "text": [
      "Test accuracy for SVM using bag of words is 89.07508569628992\n"
     ]
    }
   ],
   "source": [
    "#accuracy for svm using bag of words\n",
    "predictions = svm_tf.predict(X_test_tf)\n",
    "score = accuracy_score(y_test,predictions)\n",
    "print ('Test accuracy for SVM using bag of words is {}'.format(score*100))"
   ]
  },
  {
   "cell_type": "code",
   "execution_count": 49,
   "metadata": {},
   "outputs": [
    {
     "name": "stdout",
     "output_type": "stream",
     "text": [
      "Test accuracy for Decision Tree using bag of words is 89.41908211097518\n"
     ]
    }
   ],
   "source": [
    "#accuracy for decision tree using bag of words\n",
    "predictions = tree_tf.predict(X_test_tf)\n",
    "score = accuracy_score(y_test,predictions)\n",
    "print ('Test accuracy for Decision Tree using bag of words is {}'.format(score*100))"
   ]
  },
  {
   "cell_type": "code",
   "execution_count": 89,
   "metadata": {},
   "outputs": [
    {
     "name": "stdout",
     "output_type": "stream",
     "text": [
      "Test accuracy for Random Forest using bag of words is 90.02228709165566\n"
     ]
    }
   ],
   "source": [
    "#accuracy for random forest using bag of words\n",
    "predictions = rf_tf.predict(X_test_tf)\n",
    "score = accuracy_score(y_test,predictions)\n",
    "print ('Test accuracy for Random Forest using bag of words is {}'.format(score*100))"
   ]
  },
  {
   "cell_type": "code",
   "execution_count": 58,
   "metadata": {},
   "outputs": [
    {
     "name": "stdout",
     "output_type": "stream",
     "text": [
      "Test accuracy for Gradient Boosting using bag of words is 79.27300476023208\n"
     ]
    }
   ],
   "source": [
    "#accuracy for Gradient Boosting using bag of words\n",
    "predictions = gb_tf.predict(X_test_tf)\n",
    "score = accuracy_score(y_test,predictions)\n",
    "print ('Test accuracy for Gradient Boosting using bag of words is {}'.format(score*100))"
   ]
  },
  {
   "cell_type": "markdown",
   "metadata": {},
   "source": [
    "### 4.2 Accuracy of different algorithms for TF-IDF method"
   ]
  },
  {
   "cell_type": "code",
   "execution_count": 69,
   "metadata": {},
   "outputs": [
    {
     "name": "stdout",
     "output_type": "stream",
     "text": [
      "Test accuracy for logistic regression using TFIDF is 89.7624728981698\n"
     ]
    }
   ],
   "source": [
    "#accuracy for logistic regression using tfidf\n",
    "from sklearn.metrics import accuracy_score\n",
    "predictions = log_tfidf.predict(X_test_tfidf)\n",
    "score = accuracy_score(y_test,predictions)\n",
    "print ('Test accuracy for logistic regression using TFIDF is {}'.format(score*100))"
   ]
  },
  {
   "cell_type": "code",
   "execution_count": 123,
   "metadata": {},
   "outputs": [
    {
     "name": "stdout",
     "output_type": "stream",
     "text": [
      "Test accuracy for Knn using TFIDF is 80.85611502077302\n"
     ]
    }
   ],
   "source": [
    "#accuracy for knn using tfidf\n",
    "predictions = knn_tfidf.predict(X_test_tfidf)\n",
    "score = accuracy_score(y_test,predictions)\n",
    "print ('Test accuracy for Knn using TFIDF is {}'.format(score*100))"
   ]
  },
  {
   "cell_type": "code",
   "execution_count": 72,
   "metadata": {},
   "outputs": [
    {
     "name": "stdout",
     "output_type": "stream",
     "text": [
      "Test accuracy for Naive Bayes using TFIDF is 83.76797199578483\n"
     ]
    }
   ],
   "source": [
    "#accuracy for Naive Bayes using tfidf\n",
    "predictions = nb_tfidf.predict(X_test_tfidf.toarray())\n",
    "score = accuracy_score(y_test,predictions)\n",
    "print ('Test accuracy for Naive Bayes using TFIDF is {}'.format(score*100))"
   ]
  },
  {
   "cell_type": "code",
   "execution_count": 80,
   "metadata": {},
   "outputs": [
    {
     "name": "stdout",
     "output_type": "stream",
     "text": [
      "Test accuracy for SVM using TFIDF is 88.7062585544883\n"
     ]
    }
   ],
   "source": [
    "#accuracy for svm using tfidf\n",
    "predictions = svm_tfidf.predict(X_test_tfidf)\n",
    "score = accuracy_score(y_test,predictions)\n",
    "print ('Test accuracy for SVM using TFIDF is {}'.format(score*100))"
   ]
  },
  {
   "cell_type": "code",
   "execution_count": 74,
   "metadata": {},
   "outputs": [
    {
     "name": "stdout",
     "output_type": "stream",
     "text": [
      "Test accuracy for Decision Tree using TFIDF is 89.20468997928754\n"
     ]
    }
   ],
   "source": [
    "#accuracy for decision tree using tfidf\n",
    "predictions = tree_tfidf.predict(X_test_tfidf)\n",
    "score = accuracy_score(y_test,predictions)\n",
    "print ('Test accuracy for Decision Tree using TFIDF is {}'.format(score*100))"
   ]
  },
  {
   "cell_type": "code",
   "execution_count": 125,
   "metadata": {},
   "outputs": [
    {
     "name": "stdout",
     "output_type": "stream",
     "text": [
      "Test accuracy for Random Forest using TFIDF is 90.06710352596326\n"
     ]
    }
   ],
   "source": [
    "#accuracy for random forest using tfidf\n",
    "predictions = rf_tfidf.predict(X_test_tfidf)\n",
    "score = accuracy_score(y_test,predictions)\n",
    "print ('Test accuracy for Random Forest using TFIDF is {}'.format(score*100))"
   ]
  },
  {
   "cell_type": "code",
   "execution_count": 138,
   "metadata": {},
   "outputs": [
    {
     "name": "stdout",
     "output_type": "stream",
     "text": [
      "Test accuracy for Gradient Boosting using TFIDF is 79.28814544749815\n"
     ]
    }
   ],
   "source": [
    "#accuracy for Gradient Boosting using tfidf\n",
    "predictions = gb_tfidf.predict(X_test_tfidf)\n",
    "score = accuracy_score(y_test,predictions)\n",
    "print ('Test accuracy for Gradient Boosting using TFIDF is {}'.format(score*100))"
   ]
  },
  {
   "cell_type": "code",
   "execution_count": 128,
   "metadata": {},
   "outputs": [
    {
     "name": "stdout",
     "output_type": "stream",
     "text": [
      "Best Testing Accuracy is  90.06\n"
     ]
    },
    {
     "data": {
      "text/html": [
       "<div>\n",
       "<style scoped>\n",
       "    .dataframe tbody tr th:only-of-type {\n",
       "        vertical-align: middle;\n",
       "    }\n",
       "\n",
       "    .dataframe tbody tr th {\n",
       "        vertical-align: top;\n",
       "    }\n",
       "\n",
       "    .dataframe thead th {\n",
       "        text-align: right;\n",
       "    }\n",
       "</style>\n",
       "<table border=\"1\" class=\"dataframe\">\n",
       "  <thead>\n",
       "    <tr style=\"text-align: right;\">\n",
       "      <th></th>\n",
       "      <th>Model</th>\n",
       "      <th>Bag of word</th>\n",
       "      <th>TF-IDF</th>\n",
       "      <th>Test Accuracy</th>\n",
       "    </tr>\n",
       "  </thead>\n",
       "  <tbody>\n",
       "    <tr>\n",
       "      <th>0</th>\n",
       "      <td>Logistic Regression</td>\n",
       "      <td>1</td>\n",
       "      <td>0</td>\n",
       "      <td>89.75</td>\n",
       "    </tr>\n",
       "    <tr>\n",
       "      <th>1</th>\n",
       "      <td>KNN</td>\n",
       "      <td>1</td>\n",
       "      <td>0</td>\n",
       "      <td>82.73</td>\n",
       "    </tr>\n",
       "    <tr>\n",
       "      <th>2</th>\n",
       "      <td>Naive Bayes</td>\n",
       "      <td>1</td>\n",
       "      <td>0</td>\n",
       "      <td>84.67</td>\n",
       "    </tr>\n",
       "    <tr>\n",
       "      <th>3</th>\n",
       "      <td>SVM</td>\n",
       "      <td>1</td>\n",
       "      <td>0</td>\n",
       "      <td>89.07</td>\n",
       "    </tr>\n",
       "    <tr>\n",
       "      <th>4</th>\n",
       "      <td>Decision Tree</td>\n",
       "      <td>1</td>\n",
       "      <td>0</td>\n",
       "      <td>89.42</td>\n",
       "    </tr>\n",
       "    <tr>\n",
       "      <th>5</th>\n",
       "      <td>Random Forest</td>\n",
       "      <td>1</td>\n",
       "      <td>0</td>\n",
       "      <td>90.02</td>\n",
       "    </tr>\n",
       "    <tr>\n",
       "      <th>6</th>\n",
       "      <td>Gradient Boosting</td>\n",
       "      <td>1</td>\n",
       "      <td>0</td>\n",
       "      <td>79.27</td>\n",
       "    </tr>\n",
       "    <tr>\n",
       "      <th>7</th>\n",
       "      <td>Logistic Regression</td>\n",
       "      <td>0</td>\n",
       "      <td>1</td>\n",
       "      <td>89.76</td>\n",
       "    </tr>\n",
       "    <tr>\n",
       "      <th>8</th>\n",
       "      <td>KNN</td>\n",
       "      <td>0</td>\n",
       "      <td>1</td>\n",
       "      <td>80.85</td>\n",
       "    </tr>\n",
       "    <tr>\n",
       "      <th>9</th>\n",
       "      <td>Naive Bayes</td>\n",
       "      <td>0</td>\n",
       "      <td>1</td>\n",
       "      <td>83.76</td>\n",
       "    </tr>\n",
       "    <tr>\n",
       "      <th>10</th>\n",
       "      <td>SVM</td>\n",
       "      <td>0</td>\n",
       "      <td>1</td>\n",
       "      <td>88.70</td>\n",
       "    </tr>\n",
       "    <tr>\n",
       "      <th>11</th>\n",
       "      <td>Decision Tree</td>\n",
       "      <td>0</td>\n",
       "      <td>1</td>\n",
       "      <td>89.20</td>\n",
       "    </tr>\n",
       "    <tr>\n",
       "      <th>12</th>\n",
       "      <td>Random Forest</td>\n",
       "      <td>0</td>\n",
       "      <td>1</td>\n",
       "      <td>90.06</td>\n",
       "    </tr>\n",
       "    <tr>\n",
       "      <th>13</th>\n",
       "      <td>Gradient Boosting</td>\n",
       "      <td>0</td>\n",
       "      <td>1</td>\n",
       "      <td>79.28</td>\n",
       "    </tr>\n",
       "  </tbody>\n",
       "</table>\n",
       "</div>"
      ],
      "text/plain": [
       "                  Model  Bag of word  TF-IDF  Test Accuracy\n",
       "0   Logistic Regression            1       0          89.75\n",
       "1                   KNN            1       0          82.73\n",
       "2           Naive Bayes            1       0          84.67\n",
       "3                   SVM            1       0          89.07\n",
       "4         Decision Tree            1       0          89.42\n",
       "5         Random Forest            1       0          90.02\n",
       "6     Gradient Boosting            1       0          79.27\n",
       "7   Logistic Regression            0       1          89.76\n",
       "8                   KNN            0       1          80.85\n",
       "9           Naive Bayes            0       1          83.76\n",
       "10                  SVM            0       1          88.70\n",
       "11        Decision Tree            0       1          89.20\n",
       "12        Random Forest            0       1          90.06\n",
       "13    Gradient Boosting            0       1          79.28"
      ]
     },
     "execution_count": 128,
     "metadata": {},
     "output_type": "execute_result"
    }
   ],
   "source": [
    "#summarize results in a table\n",
    "import pandas as pd\n",
    "results = pd.DataFrame({\"Model\":[\"Logistic Regression\", \"KNN\",\"Naive Bayes\",\"SVM\",\"Decision Tree\",\"Random Forest\",\"Gradient Boosting\",\"Logistic Regression\", \"KNN\",\"Naive Bayes\",\"SVM\",\"Decision Tree\",\"Random Forest\",\"Gradient Boosting\"]})\n",
    "results[\"Bag of word\"]= [1,1,1,1,1,1,1,0,0,0,0,0,0,0]\n",
    "results[\"TF-IDF\"]= [0,0,0,0,0,0,0,1,1,1,1,1,1,1]\n",
    "results[\"Test Accuracy\"] =[89.75,82.73,84.67,89.07,89.42,90.02,79.27,89.76,80.85,83.76,88.70,89.20,90.06,79.28]\n",
    "\n",
    "print (\"Best Testing Accuracy is \", max(results['Test Accuracy']))\n",
    "results"
   ]
  },
  {
   "cell_type": "markdown",
   "metadata": {},
   "source": [
    "#### we can see the best model is Random Forest using TF-IDF, with the highest accuracy 90.06%. And then we apply the model on US election dataset to predict sentiment label."
   ]
  },
  {
   "cell_type": "markdown",
   "metadata": {},
   "source": [
    "### 4.3 Best model performance on US Election Dataset"
   ]
  },
  {
   "cell_type": "code",
   "execution_count": 170,
   "metadata": {},
   "outputs": [
    {
     "data": {
      "text/html": [
       "<div>\n",
       "<style scoped>\n",
       "    .dataframe tbody tr th:only-of-type {\n",
       "        vertical-align: middle;\n",
       "    }\n",
       "\n",
       "    .dataframe tbody tr th {\n",
       "        vertical-align: top;\n",
       "    }\n",
       "\n",
       "    .dataframe thead th {\n",
       "        text-align: right;\n",
       "    }\n",
       "</style>\n",
       "<table border=\"1\" class=\"dataframe\">\n",
       "  <thead>\n",
       "    <tr style=\"text-align: right;\">\n",
       "      <th></th>\n",
       "      <th>absolutely</th>\n",
       "      <th>accelerating</th>\n",
       "      <th>ads</th>\n",
       "      <th>afraid</th>\n",
       "      <th>ago</th>\n",
       "      <th>ahead</th>\n",
       "      <th>allowed</th>\n",
       "      <th>america</th>\n",
       "      <th>american</th>\n",
       "      <th>americans</th>\n",
       "      <th>...</th>\n",
       "      <th>worst</th>\n",
       "      <th>wow</th>\n",
       "      <th>wrong</th>\n",
       "      <th>wtf</th>\n",
       "      <th>yeah</th>\n",
       "      <th>year</th>\n",
       "      <th>years</th>\n",
       "      <th>yelling</th>\n",
       "      <th>yesterday</th>\n",
       "      <th>young</th>\n",
       "    </tr>\n",
       "  </thead>\n",
       "  <tbody>\n",
       "    <tr>\n",
       "      <th>0</th>\n",
       "      <td>0.0</td>\n",
       "      <td>0.0</td>\n",
       "      <td>0.0</td>\n",
       "      <td>0.447214</td>\n",
       "      <td>0.0</td>\n",
       "      <td>0.0</td>\n",
       "      <td>0.0</td>\n",
       "      <td>0.0</td>\n",
       "      <td>0.000000</td>\n",
       "      <td>0.0</td>\n",
       "      <td>...</td>\n",
       "      <td>0.0</td>\n",
       "      <td>0.0</td>\n",
       "      <td>0.0</td>\n",
       "      <td>0.0</td>\n",
       "      <td>0.0</td>\n",
       "      <td>0.0</td>\n",
       "      <td>0.0</td>\n",
       "      <td>0.0</td>\n",
       "      <td>0.0</td>\n",
       "      <td>0.0</td>\n",
       "    </tr>\n",
       "    <tr>\n",
       "      <th>1</th>\n",
       "      <td>0.0</td>\n",
       "      <td>0.0</td>\n",
       "      <td>0.0</td>\n",
       "      <td>0.000000</td>\n",
       "      <td>0.0</td>\n",
       "      <td>0.0</td>\n",
       "      <td>0.0</td>\n",
       "      <td>0.0</td>\n",
       "      <td>0.000000</td>\n",
       "      <td>0.0</td>\n",
       "      <td>...</td>\n",
       "      <td>0.0</td>\n",
       "      <td>0.0</td>\n",
       "      <td>0.0</td>\n",
       "      <td>0.0</td>\n",
       "      <td>0.0</td>\n",
       "      <td>0.0</td>\n",
       "      <td>0.0</td>\n",
       "      <td>0.0</td>\n",
       "      <td>0.0</td>\n",
       "      <td>0.0</td>\n",
       "    </tr>\n",
       "    <tr>\n",
       "      <th>2</th>\n",
       "      <td>0.0</td>\n",
       "      <td>0.0</td>\n",
       "      <td>0.0</td>\n",
       "      <td>0.000000</td>\n",
       "      <td>0.0</td>\n",
       "      <td>0.0</td>\n",
       "      <td>0.0</td>\n",
       "      <td>0.0</td>\n",
       "      <td>0.000000</td>\n",
       "      <td>0.0</td>\n",
       "      <td>...</td>\n",
       "      <td>0.0</td>\n",
       "      <td>0.0</td>\n",
       "      <td>0.0</td>\n",
       "      <td>0.0</td>\n",
       "      <td>0.0</td>\n",
       "      <td>0.0</td>\n",
       "      <td>0.0</td>\n",
       "      <td>0.0</td>\n",
       "      <td>0.0</td>\n",
       "      <td>0.0</td>\n",
       "    </tr>\n",
       "    <tr>\n",
       "      <th>3</th>\n",
       "      <td>0.0</td>\n",
       "      <td>0.0</td>\n",
       "      <td>0.0</td>\n",
       "      <td>0.000000</td>\n",
       "      <td>0.0</td>\n",
       "      <td>0.0</td>\n",
       "      <td>0.0</td>\n",
       "      <td>0.0</td>\n",
       "      <td>0.408248</td>\n",
       "      <td>0.0</td>\n",
       "      <td>...</td>\n",
       "      <td>0.0</td>\n",
       "      <td>0.0</td>\n",
       "      <td>0.0</td>\n",
       "      <td>0.0</td>\n",
       "      <td>0.0</td>\n",
       "      <td>0.0</td>\n",
       "      <td>0.0</td>\n",
       "      <td>0.0</td>\n",
       "      <td>0.0</td>\n",
       "      <td>0.0</td>\n",
       "    </tr>\n",
       "    <tr>\n",
       "      <th>4</th>\n",
       "      <td>0.0</td>\n",
       "      <td>0.0</td>\n",
       "      <td>0.0</td>\n",
       "      <td>0.000000</td>\n",
       "      <td>0.0</td>\n",
       "      <td>0.0</td>\n",
       "      <td>0.0</td>\n",
       "      <td>0.0</td>\n",
       "      <td>0.000000</td>\n",
       "      <td>0.0</td>\n",
       "      <td>...</td>\n",
       "      <td>0.0</td>\n",
       "      <td>0.0</td>\n",
       "      <td>0.0</td>\n",
       "      <td>0.0</td>\n",
       "      <td>0.0</td>\n",
       "      <td>0.0</td>\n",
       "      <td>0.0</td>\n",
       "      <td>0.0</td>\n",
       "      <td>0.0</td>\n",
       "      <td>0.0</td>\n",
       "    </tr>\n",
       "  </tbody>\n",
       "</table>\n",
       "<p>5 rows × 500 columns</p>\n",
       "</div>"
      ],
      "text/plain": [
       "   absolutely  accelerating  ads    afraid  ago  ahead  allowed  america  \\\n",
       "0         0.0           0.0  0.0  0.447214  0.0    0.0      0.0      0.0   \n",
       "1         0.0           0.0  0.0  0.000000  0.0    0.0      0.0      0.0   \n",
       "2         0.0           0.0  0.0  0.000000  0.0    0.0      0.0      0.0   \n",
       "3         0.0           0.0  0.0  0.000000  0.0    0.0      0.0      0.0   \n",
       "4         0.0           0.0  0.0  0.000000  0.0    0.0      0.0      0.0   \n",
       "\n",
       "   american  americans  ...  worst  wow  wrong  wtf  yeah  year  years  \\\n",
       "0  0.000000        0.0  ...    0.0  0.0    0.0  0.0   0.0   0.0    0.0   \n",
       "1  0.000000        0.0  ...    0.0  0.0    0.0  0.0   0.0   0.0    0.0   \n",
       "2  0.000000        0.0  ...    0.0  0.0    0.0  0.0   0.0   0.0    0.0   \n",
       "3  0.408248        0.0  ...    0.0  0.0    0.0  0.0   0.0   0.0    0.0   \n",
       "4  0.000000        0.0  ...    0.0  0.0    0.0  0.0   0.0   0.0    0.0   \n",
       "\n",
       "   yelling  yesterday  young  \n",
       "0      0.0        0.0    0.0  \n",
       "1      0.0        0.0    0.0  \n",
       "2      0.0        0.0    0.0  \n",
       "3      0.0        0.0    0.0  \n",
       "4      0.0        0.0    0.0  \n",
       "\n",
       "[5 rows x 500 columns]"
      ]
     },
     "execution_count": 170,
     "metadata": {},
     "output_type": "execute_result"
    }
   ],
   "source": [
    "# represent data using bag of words\n",
    "vectorizer = text_processing(df_US['text'], False) #False indicates TF\n",
    "X_tf1 = vectorizer.transform(df_US['text'])\n",
    "y1 = df_US.sentiment\n",
    "\n",
    "pd.DataFrame(data=X_tf1.toarray(),columns=vectorizer.get_feature_names()).head()"
   ]
  },
  {
   "cell_type": "code",
   "execution_count": 171,
   "metadata": {},
   "outputs": [],
   "source": [
    "# split data\n",
    "X_train_us, X_test_us, y_train_us, y_test_us = train_test_split(X_tf1, y1, test_size=0.3, random_state=42)"
   ]
  },
  {
   "cell_type": "code",
   "execution_count": 97,
   "metadata": {},
   "outputs": [
    {
     "data": {
      "text/html": [
       "<div>\n",
       "<style scoped>\n",
       "    .dataframe tbody tr th:only-of-type {\n",
       "        vertical-align: middle;\n",
       "    }\n",
       "\n",
       "    .dataframe tbody tr th {\n",
       "        vertical-align: top;\n",
       "    }\n",
       "\n",
       "    .dataframe thead th {\n",
       "        text-align: right;\n",
       "    }\n",
       "</style>\n",
       "<table border=\"1\" class=\"dataframe\">\n",
       "  <thead>\n",
       "    <tr style=\"text-align: right;\">\n",
       "      <th></th>\n",
       "      <th>absolutely</th>\n",
       "      <th>accelerating</th>\n",
       "      <th>ads</th>\n",
       "      <th>afraid</th>\n",
       "      <th>ago</th>\n",
       "      <th>ahead</th>\n",
       "      <th>allowed</th>\n",
       "      <th>america</th>\n",
       "      <th>american</th>\n",
       "      <th>americans</th>\n",
       "      <th>...</th>\n",
       "      <th>worst</th>\n",
       "      <th>wow</th>\n",
       "      <th>wrong</th>\n",
       "      <th>wtf</th>\n",
       "      <th>yeah</th>\n",
       "      <th>year</th>\n",
       "      <th>years</th>\n",
       "      <th>yelling</th>\n",
       "      <th>yesterday</th>\n",
       "      <th>young</th>\n",
       "    </tr>\n",
       "  </thead>\n",
       "  <tbody>\n",
       "    <tr>\n",
       "      <th>0</th>\n",
       "      <td>0.0</td>\n",
       "      <td>0.0</td>\n",
       "      <td>0.0</td>\n",
       "      <td>0.528531</td>\n",
       "      <td>0.0</td>\n",
       "      <td>0.0</td>\n",
       "      <td>0.0</td>\n",
       "      <td>0.0</td>\n",
       "      <td>0.000000</td>\n",
       "      <td>0.0</td>\n",
       "      <td>...</td>\n",
       "      <td>0.0</td>\n",
       "      <td>0.0</td>\n",
       "      <td>0.0</td>\n",
       "      <td>0.0</td>\n",
       "      <td>0.0</td>\n",
       "      <td>0.0</td>\n",
       "      <td>0.0</td>\n",
       "      <td>0.0</td>\n",
       "      <td>0.0</td>\n",
       "      <td>0.0</td>\n",
       "    </tr>\n",
       "    <tr>\n",
       "      <th>1</th>\n",
       "      <td>0.0</td>\n",
       "      <td>0.0</td>\n",
       "      <td>0.0</td>\n",
       "      <td>0.000000</td>\n",
       "      <td>0.0</td>\n",
       "      <td>0.0</td>\n",
       "      <td>0.0</td>\n",
       "      <td>0.0</td>\n",
       "      <td>0.000000</td>\n",
       "      <td>0.0</td>\n",
       "      <td>...</td>\n",
       "      <td>0.0</td>\n",
       "      <td>0.0</td>\n",
       "      <td>0.0</td>\n",
       "      <td>0.0</td>\n",
       "      <td>0.0</td>\n",
       "      <td>0.0</td>\n",
       "      <td>0.0</td>\n",
       "      <td>0.0</td>\n",
       "      <td>0.0</td>\n",
       "      <td>0.0</td>\n",
       "    </tr>\n",
       "    <tr>\n",
       "      <th>2</th>\n",
       "      <td>0.0</td>\n",
       "      <td>0.0</td>\n",
       "      <td>0.0</td>\n",
       "      <td>0.000000</td>\n",
       "      <td>0.0</td>\n",
       "      <td>0.0</td>\n",
       "      <td>0.0</td>\n",
       "      <td>0.0</td>\n",
       "      <td>0.000000</td>\n",
       "      <td>0.0</td>\n",
       "      <td>...</td>\n",
       "      <td>0.0</td>\n",
       "      <td>0.0</td>\n",
       "      <td>0.0</td>\n",
       "      <td>0.0</td>\n",
       "      <td>0.0</td>\n",
       "      <td>0.0</td>\n",
       "      <td>0.0</td>\n",
       "      <td>0.0</td>\n",
       "      <td>0.0</td>\n",
       "      <td>0.0</td>\n",
       "    </tr>\n",
       "    <tr>\n",
       "      <th>3</th>\n",
       "      <td>0.0</td>\n",
       "      <td>0.0</td>\n",
       "      <td>0.0</td>\n",
       "      <td>0.000000</td>\n",
       "      <td>0.0</td>\n",
       "      <td>0.0</td>\n",
       "      <td>0.0</td>\n",
       "      <td>0.0</td>\n",
       "      <td>0.365808</td>\n",
       "      <td>0.0</td>\n",
       "      <td>...</td>\n",
       "      <td>0.0</td>\n",
       "      <td>0.0</td>\n",
       "      <td>0.0</td>\n",
       "      <td>0.0</td>\n",
       "      <td>0.0</td>\n",
       "      <td>0.0</td>\n",
       "      <td>0.0</td>\n",
       "      <td>0.0</td>\n",
       "      <td>0.0</td>\n",
       "      <td>0.0</td>\n",
       "    </tr>\n",
       "    <tr>\n",
       "      <th>4</th>\n",
       "      <td>0.0</td>\n",
       "      <td>0.0</td>\n",
       "      <td>0.0</td>\n",
       "      <td>0.000000</td>\n",
       "      <td>0.0</td>\n",
       "      <td>0.0</td>\n",
       "      <td>0.0</td>\n",
       "      <td>0.0</td>\n",
       "      <td>0.000000</td>\n",
       "      <td>0.0</td>\n",
       "      <td>...</td>\n",
       "      <td>0.0</td>\n",
       "      <td>0.0</td>\n",
       "      <td>0.0</td>\n",
       "      <td>0.0</td>\n",
       "      <td>0.0</td>\n",
       "      <td>0.0</td>\n",
       "      <td>0.0</td>\n",
       "      <td>0.0</td>\n",
       "      <td>0.0</td>\n",
       "      <td>0.0</td>\n",
       "    </tr>\n",
       "  </tbody>\n",
       "</table>\n",
       "<p>5 rows × 500 columns</p>\n",
       "</div>"
      ],
      "text/plain": [
       "   absolutely  accelerating  ads    afraid  ago  ahead  allowed  america  \\\n",
       "0         0.0           0.0  0.0  0.528531  0.0    0.0      0.0      0.0   \n",
       "1         0.0           0.0  0.0  0.000000  0.0    0.0      0.0      0.0   \n",
       "2         0.0           0.0  0.0  0.000000  0.0    0.0      0.0      0.0   \n",
       "3         0.0           0.0  0.0  0.000000  0.0    0.0      0.0      0.0   \n",
       "4         0.0           0.0  0.0  0.000000  0.0    0.0      0.0      0.0   \n",
       "\n",
       "   american  americans  ...  worst  wow  wrong  wtf  yeah  year  years  \\\n",
       "0  0.000000        0.0  ...    0.0  0.0    0.0  0.0   0.0   0.0    0.0   \n",
       "1  0.000000        0.0  ...    0.0  0.0    0.0  0.0   0.0   0.0    0.0   \n",
       "2  0.000000        0.0  ...    0.0  0.0    0.0  0.0   0.0   0.0    0.0   \n",
       "3  0.365808        0.0  ...    0.0  0.0    0.0  0.0   0.0   0.0    0.0   \n",
       "4  0.000000        0.0  ...    0.0  0.0    0.0  0.0   0.0   0.0    0.0   \n",
       "\n",
       "   yelling  yesterday  young  \n",
       "0      0.0        0.0    0.0  \n",
       "1      0.0        0.0    0.0  \n",
       "2      0.0        0.0    0.0  \n",
       "3      0.0        0.0    0.0  \n",
       "4      0.0        0.0    0.0  \n",
       "\n",
       "[5 rows x 500 columns]"
      ]
     },
     "execution_count": 97,
     "metadata": {},
     "output_type": "execute_result"
    }
   ],
   "source": [
    "# represent data using TFIDF\n",
    "vectorizer = text_processing(df_US['text'], True) #False indicates TF\n",
    "X_tfidf1 = vectorizer.transform(df_US['text'])\n",
    "y1 = df_US.sentiment\n",
    "\n",
    "pd.DataFrame(data=X_tfidf1.toarray(),columns=vectorizer.get_feature_names()).head()"
   ]
  },
  {
   "cell_type": "code",
   "execution_count": 98,
   "metadata": {},
   "outputs": [],
   "source": [
    "# split data\n",
    "X_train_us1, X_test_us1, y_train_us1, y_test_us1 = train_test_split(X_tfidf1, y1, test_size=0.3, random_state=42)"
   ]
  },
  {
   "cell_type": "code",
   "execution_count": 99,
   "metadata": {},
   "outputs": [
    {
     "name": "stdout",
     "output_type": "stream",
     "text": [
      "Test Accuracy for 2020 Election dataset using bag-of-word is  0.48433420365535246\n"
     ]
    }
   ],
   "source": [
    "#accuracy for random forest using bag of words\n",
    "prediction_tf = rf_tf.predict(X_test_us)\n",
    "accuracy_tf = accuracy_score(y_test_us, prediction_tf) \n",
    "print (\"Test Accuracy for 2020 Election dataset using bag-of-word is \", accuracy_tf)"
   ]
  },
  {
   "cell_type": "code",
   "execution_count": 101,
   "metadata": {},
   "outputs": [
    {
     "name": "stdout",
     "output_type": "stream",
     "text": [
      "Test Accuracy for 2020 Election dataset using TF-IDF is  0.47780678851174935\n"
     ]
    }
   ],
   "source": [
    "#accuracy for random forest using TFIDF\n",
    "prediction_tfidf = rf_tfidf.predict(X_test_us1)\n",
    "accuracy_tfidf = accuracy_score(y_test_us1, prediction_tfidf) \n",
    "print (\"Test Accuracy for 2020 Election dataset using TF-IDF is \", accuracy_tfidf)"
   ]
  },
  {
   "cell_type": "markdown",
   "metadata": {},
   "source": [
    "#### Random forest's performance drops significantly on the US election dataset. And we visualize predicted labels and true labels for each party to see the difference."
   ]
  },
  {
   "cell_type": "code",
   "execution_count": 174,
   "metadata": {},
   "outputs": [
    {
     "data": {
      "text/html": [
       "<div>\n",
       "<style scoped>\n",
       "    .dataframe tbody tr th:only-of-type {\n",
       "        vertical-align: middle;\n",
       "    }\n",
       "\n",
       "    .dataframe tbody tr th {\n",
       "        vertical-align: top;\n",
       "    }\n",
       "\n",
       "    .dataframe thead th {\n",
       "        text-align: right;\n",
       "    }\n",
       "</style>\n",
       "<table border=\"1\" class=\"dataframe\">\n",
       "  <thead>\n",
       "    <tr style=\"text-align: right;\">\n",
       "      <th></th>\n",
       "      <th>Predicted Label</th>\n",
       "      <th>True Label</th>\n",
       "      <th>Political Affiliation</th>\n",
       "    </tr>\n",
       "  </thead>\n",
       "  <tbody>\n",
       "    <tr>\n",
       "      <th>0</th>\n",
       "      <td>1</td>\n",
       "      <td>0</td>\n",
       "      <td>Others</td>\n",
       "    </tr>\n",
       "    <tr>\n",
       "      <th>1</th>\n",
       "      <td>0</td>\n",
       "      <td>1</td>\n",
       "      <td>Others</td>\n",
       "    </tr>\n",
       "    <tr>\n",
       "      <th>2</th>\n",
       "      <td>0</td>\n",
       "      <td>0</td>\n",
       "      <td>Others</td>\n",
       "    </tr>\n",
       "    <tr>\n",
       "      <th>3</th>\n",
       "      <td>0</td>\n",
       "      <td>1</td>\n",
       "      <td>Others</td>\n",
       "    </tr>\n",
       "    <tr>\n",
       "      <th>4</th>\n",
       "      <td>1</td>\n",
       "      <td>1</td>\n",
       "      <td>Others</td>\n",
       "    </tr>\n",
       "    <tr>\n",
       "      <th>...</th>\n",
       "      <td>...</td>\n",
       "      <td>...</td>\n",
       "      <td>...</td>\n",
       "    </tr>\n",
       "    <tr>\n",
       "      <th>761</th>\n",
       "      <td>1</td>\n",
       "      <td>1</td>\n",
       "      <td>Others</td>\n",
       "    </tr>\n",
       "    <tr>\n",
       "      <th>762</th>\n",
       "      <td>1</td>\n",
       "      <td>0</td>\n",
       "      <td>Others</td>\n",
       "    </tr>\n",
       "    <tr>\n",
       "      <th>763</th>\n",
       "      <td>0</td>\n",
       "      <td>0</td>\n",
       "      <td>Republican Party</td>\n",
       "    </tr>\n",
       "    <tr>\n",
       "      <th>764</th>\n",
       "      <td>0</td>\n",
       "      <td>1</td>\n",
       "      <td>Others</td>\n",
       "    </tr>\n",
       "    <tr>\n",
       "      <th>765</th>\n",
       "      <td>0</td>\n",
       "      <td>0</td>\n",
       "      <td>Others</td>\n",
       "    </tr>\n",
       "  </tbody>\n",
       "</table>\n",
       "<p>766 rows × 3 columns</p>\n",
       "</div>"
      ],
      "text/plain": [
       "     Predicted Label  True Label Political Affiliation\n",
       "0                  1           0                Others\n",
       "1                  0           1                Others\n",
       "2                  0           0                Others\n",
       "3                  0           1                Others\n",
       "4                  1           1                Others\n",
       "..               ...         ...                   ...\n",
       "761                1           1                Others\n",
       "762                1           0                Others\n",
       "763                0           0      Republican Party\n",
       "764                0           1                Others\n",
       "765                0           0                Others\n",
       "\n",
       "[766 rows x 3 columns]"
      ]
     },
     "execution_count": 174,
     "metadata": {},
     "output_type": "execute_result"
    }
   ],
   "source": [
    "#create df with true and predicted labels of random forest with bag of words\n",
    "df_prediction = pd.DataFrame(prediction_tf,columns=['Predicted Label'])\n",
    "df_prediction['True Label'] = y_test_us.values\n",
    "df_prediction['Political Affiliation'] = df_US.loc[y_test_us.index,['Political Affiliation']].values\n",
    "df_prediction"
   ]
  },
  {
   "cell_type": "code",
   "execution_count": 187,
   "metadata": {
    "scrolled": false
   },
   "outputs": [
    {
     "data": {
      "text/plain": [
       "<matplotlib.axes._subplots.AxesSubplot at 0x7fda9161ca90>"
      ]
     },
     "execution_count": 187,
     "metadata": {},
     "output_type": "execute_result"
    },
    {
     "data": {
      "image/png": "[encoded data removed]",
      "text/plain": [
       "<Figure size 864x360 with 2 Axes>"
      ]
     },
     "metadata": {
      "needs_background": "light"
     },
     "output_type": "display_data"
    }
   ],
   "source": [
    "#use countplot to visualize predicted labels and true label for Republican Party\n",
    "import seaborn as sns\n",
    "df_rep = df_prediction[df_prediction['Political Affiliation']=='Republican Party']\n",
    "\n",
    "fig, axes = plt.subplots(1, 2, figsize=(12, 5), sharey=True)\n",
    "fig.suptitle('Random Forest Results (Bag of Word) for Republican Party')\n",
    "\n",
    "sns.countplot(ax=axes[0], x = 'Predicted Label', data = df_rep)\n",
    "sns.countplot(ax=axes[1],x = 'True Label', data = df_rep)"
   ]
  },
  {
   "cell_type": "code",
   "execution_count": 230,
   "metadata": {},
   "outputs": [
    {
     "data": {
      "text/html": [
       "<div>\n",
       "<style scoped>\n",
       "    .dataframe tbody tr th:only-of-type {\n",
       "        vertical-align: middle;\n",
       "    }\n",
       "\n",
       "    .dataframe tbody tr th {\n",
       "        vertical-align: top;\n",
       "    }\n",
       "\n",
       "    .dataframe thead th {\n",
       "        text-align: right;\n",
       "    }\n",
       "</style>\n",
       "<table border=\"1\" class=\"dataframe\">\n",
       "  <thead>\n",
       "    <tr style=\"text-align: right;\">\n",
       "      <th></th>\n",
       "      <th>Predicted Label</th>\n",
       "      <th>True Label</th>\n",
       "      <th>Political Affiliation</th>\n",
       "    </tr>\n",
       "  </thead>\n",
       "  <tbody>\n",
       "    <tr>\n",
       "      <th>27</th>\n",
       "      <td>0</td>\n",
       "      <td>1</td>\n",
       "      <td>Republican Party</td>\n",
       "    </tr>\n",
       "    <tr>\n",
       "      <th>36</th>\n",
       "      <td>0</td>\n",
       "      <td>1</td>\n",
       "      <td>Republican Party</td>\n",
       "    </tr>\n",
       "    <tr>\n",
       "      <th>48</th>\n",
       "      <td>0</td>\n",
       "      <td>0</td>\n",
       "      <td>Republican Party</td>\n",
       "    </tr>\n",
       "    <tr>\n",
       "      <th>97</th>\n",
       "      <td>0</td>\n",
       "      <td>1</td>\n",
       "      <td>Republican Party</td>\n",
       "    </tr>\n",
       "    <tr>\n",
       "      <th>137</th>\n",
       "      <td>0</td>\n",
       "      <td>1</td>\n",
       "      <td>Republican Party</td>\n",
       "    </tr>\n",
       "    <tr>\n",
       "      <th>173</th>\n",
       "      <td>0</td>\n",
       "      <td>1</td>\n",
       "      <td>Republican Party</td>\n",
       "    </tr>\n",
       "    <tr>\n",
       "      <th>178</th>\n",
       "      <td>1</td>\n",
       "      <td>0</td>\n",
       "      <td>Republican Party</td>\n",
       "    </tr>\n",
       "    <tr>\n",
       "      <th>200</th>\n",
       "      <td>0</td>\n",
       "      <td>0</td>\n",
       "      <td>Republican Party</td>\n",
       "    </tr>\n",
       "    <tr>\n",
       "      <th>201</th>\n",
       "      <td>1</td>\n",
       "      <td>1</td>\n",
       "      <td>Republican Party</td>\n",
       "    </tr>\n",
       "    <tr>\n",
       "      <th>202</th>\n",
       "      <td>0</td>\n",
       "      <td>1</td>\n",
       "      <td>Republican Party</td>\n",
       "    </tr>\n",
       "    <tr>\n",
       "      <th>219</th>\n",
       "      <td>0</td>\n",
       "      <td>0</td>\n",
       "      <td>Republican Party</td>\n",
       "    </tr>\n",
       "    <tr>\n",
       "      <th>220</th>\n",
       "      <td>0</td>\n",
       "      <td>1</td>\n",
       "      <td>Republican Party</td>\n",
       "    </tr>\n",
       "    <tr>\n",
       "      <th>253</th>\n",
       "      <td>0</td>\n",
       "      <td>0</td>\n",
       "      <td>Republican Party</td>\n",
       "    </tr>\n",
       "    <tr>\n",
       "      <th>277</th>\n",
       "      <td>0</td>\n",
       "      <td>1</td>\n",
       "      <td>Republican Party</td>\n",
       "    </tr>\n",
       "    <tr>\n",
       "      <th>339</th>\n",
       "      <td>1</td>\n",
       "      <td>0</td>\n",
       "      <td>Republican Party</td>\n",
       "    </tr>\n",
       "    <tr>\n",
       "      <th>354</th>\n",
       "      <td>0</td>\n",
       "      <td>0</td>\n",
       "      <td>Republican Party</td>\n",
       "    </tr>\n",
       "    <tr>\n",
       "      <th>372</th>\n",
       "      <td>0</td>\n",
       "      <td>1</td>\n",
       "      <td>Republican Party</td>\n",
       "    </tr>\n",
       "    <tr>\n",
       "      <th>379</th>\n",
       "      <td>0</td>\n",
       "      <td>1</td>\n",
       "      <td>Republican Party</td>\n",
       "    </tr>\n",
       "    <tr>\n",
       "      <th>410</th>\n",
       "      <td>0</td>\n",
       "      <td>1</td>\n",
       "      <td>Republican Party</td>\n",
       "    </tr>\n",
       "    <tr>\n",
       "      <th>457</th>\n",
       "      <td>1</td>\n",
       "      <td>0</td>\n",
       "      <td>Republican Party</td>\n",
       "    </tr>\n",
       "    <tr>\n",
       "      <th>486</th>\n",
       "      <td>0</td>\n",
       "      <td>1</td>\n",
       "      <td>Republican Party</td>\n",
       "    </tr>\n",
       "    <tr>\n",
       "      <th>497</th>\n",
       "      <td>0</td>\n",
       "      <td>1</td>\n",
       "      <td>Republican Party</td>\n",
       "    </tr>\n",
       "    <tr>\n",
       "      <th>520</th>\n",
       "      <td>0</td>\n",
       "      <td>1</td>\n",
       "      <td>Republican Party</td>\n",
       "    </tr>\n",
       "    <tr>\n",
       "      <th>527</th>\n",
       "      <td>0</td>\n",
       "      <td>0</td>\n",
       "      <td>Republican Party</td>\n",
       "    </tr>\n",
       "    <tr>\n",
       "      <th>559</th>\n",
       "      <td>1</td>\n",
       "      <td>1</td>\n",
       "      <td>Republican Party</td>\n",
       "    </tr>\n",
       "    <tr>\n",
       "      <th>585</th>\n",
       "      <td>0</td>\n",
       "      <td>1</td>\n",
       "      <td>Republican Party</td>\n",
       "    </tr>\n",
       "    <tr>\n",
       "      <th>595</th>\n",
       "      <td>0</td>\n",
       "      <td>1</td>\n",
       "      <td>Republican Party</td>\n",
       "    </tr>\n",
       "    <tr>\n",
       "      <th>611</th>\n",
       "      <td>0</td>\n",
       "      <td>0</td>\n",
       "      <td>Republican Party</td>\n",
       "    </tr>\n",
       "    <tr>\n",
       "      <th>626</th>\n",
       "      <td>0</td>\n",
       "      <td>1</td>\n",
       "      <td>Republican Party</td>\n",
       "    </tr>\n",
       "    <tr>\n",
       "      <th>640</th>\n",
       "      <td>0</td>\n",
       "      <td>1</td>\n",
       "      <td>Republican Party</td>\n",
       "    </tr>\n",
       "    <tr>\n",
       "      <th>645</th>\n",
       "      <td>0</td>\n",
       "      <td>1</td>\n",
       "      <td>Republican Party</td>\n",
       "    </tr>\n",
       "    <tr>\n",
       "      <th>663</th>\n",
       "      <td>1</td>\n",
       "      <td>1</td>\n",
       "      <td>Republican Party</td>\n",
       "    </tr>\n",
       "    <tr>\n",
       "      <th>684</th>\n",
       "      <td>0</td>\n",
       "      <td>1</td>\n",
       "      <td>Republican Party</td>\n",
       "    </tr>\n",
       "    <tr>\n",
       "      <th>710</th>\n",
       "      <td>0</td>\n",
       "      <td>1</td>\n",
       "      <td>Republican Party</td>\n",
       "    </tr>\n",
       "    <tr>\n",
       "      <th>711</th>\n",
       "      <td>0</td>\n",
       "      <td>1</td>\n",
       "      <td>Republican Party</td>\n",
       "    </tr>\n",
       "    <tr>\n",
       "      <th>714</th>\n",
       "      <td>1</td>\n",
       "      <td>0</td>\n",
       "      <td>Republican Party</td>\n",
       "    </tr>\n",
       "    <tr>\n",
       "      <th>718</th>\n",
       "      <td>0</td>\n",
       "      <td>1</td>\n",
       "      <td>Republican Party</td>\n",
       "    </tr>\n",
       "    <tr>\n",
       "      <th>722</th>\n",
       "      <td>0</td>\n",
       "      <td>0</td>\n",
       "      <td>Republican Party</td>\n",
       "    </tr>\n",
       "    <tr>\n",
       "      <th>725</th>\n",
       "      <td>0</td>\n",
       "      <td>1</td>\n",
       "      <td>Republican Party</td>\n",
       "    </tr>\n",
       "    <tr>\n",
       "      <th>737</th>\n",
       "      <td>0</td>\n",
       "      <td>0</td>\n",
       "      <td>Republican Party</td>\n",
       "    </tr>\n",
       "    <tr>\n",
       "      <th>741</th>\n",
       "      <td>0</td>\n",
       "      <td>0</td>\n",
       "      <td>Republican Party</td>\n",
       "    </tr>\n",
       "    <tr>\n",
       "      <th>751</th>\n",
       "      <td>0</td>\n",
       "      <td>0</td>\n",
       "      <td>Republican Party</td>\n",
       "    </tr>\n",
       "    <tr>\n",
       "      <th>758</th>\n",
       "      <td>0</td>\n",
       "      <td>1</td>\n",
       "      <td>Republican Party</td>\n",
       "    </tr>\n",
       "    <tr>\n",
       "      <th>763</th>\n",
       "      <td>0</td>\n",
       "      <td>0</td>\n",
       "      <td>Republican Party</td>\n",
       "    </tr>\n",
       "  </tbody>\n",
       "</table>\n",
       "</div>"
      ],
      "text/plain": [
       "     Predicted Label  True Label Political Affiliation\n",
       "27                 0           1      Republican Party\n",
       "36                 0           1      Republican Party\n",
       "48                 0           0      Republican Party\n",
       "97                 0           1      Republican Party\n",
       "137                0           1      Republican Party\n",
       "173                0           1      Republican Party\n",
       "178                1           0      Republican Party\n",
       "200                0           0      Republican Party\n",
       "201                1           1      Republican Party\n",
       "202                0           1      Republican Party\n",
       "219                0           0      Republican Party\n",
       "220                0           1      Republican Party\n",
       "253                0           0      Republican Party\n",
       "277                0           1      Republican Party\n",
       "339                1           0      Republican Party\n",
       "354                0           0      Republican Party\n",
       "372                0           1      Republican Party\n",
       "379                0           1      Republican Party\n",
       "410                0           1      Republican Party\n",
       "457                1           0      Republican Party\n",
       "486                0           1      Republican Party\n",
       "497                0           1      Republican Party\n",
       "520                0           1      Republican Party\n",
       "527                0           0      Republican Party\n",
       "559                1           1      Republican Party\n",
       "585                0           1      Republican Party\n",
       "595                0           1      Republican Party\n",
       "611                0           0      Republican Party\n",
       "626                0           1      Republican Party\n",
       "640                0           1      Republican Party\n",
       "645                0           1      Republican Party\n",
       "663                1           1      Republican Party\n",
       "684                0           1      Republican Party\n",
       "710                0           1      Republican Party\n",
       "711                0           1      Republican Party\n",
       "714                1           0      Republican Party\n",
       "718                0           1      Republican Party\n",
       "722                0           0      Republican Party\n",
       "725                0           1      Republican Party\n",
       "737                0           0      Republican Party\n",
       "741                0           0      Republican Party\n",
       "751                0           0      Republican Party\n",
       "758                0           1      Republican Party\n",
       "763                0           0      Republican Party"
      ]
     },
     "execution_count": 230,
     "metadata": {},
     "output_type": "execute_result"
    }
   ],
   "source": [
    "df_rep"
   ]
  },
  {
   "cell_type": "code",
   "execution_count": 178,
   "metadata": {},
   "outputs": [
    {
     "data": {
      "text/plain": [
       "<matplotlib.axes._subplots.AxesSubplot at 0x7fda910593a0>"
      ]
     },
     "execution_count": 178,
     "metadata": {},
     "output_type": "execute_result"
    },
    {
     "data": {
      "image/png": "[encoded data removed]",
      "text/plain": [
       "<Figure size 864x360 with 2 Axes>"
      ]
     },
     "metadata": {
      "needs_background": "light"
     },
     "output_type": "display_data"
    }
   ],
   "source": [
    "#use countplot to visualize predicted labels and true label for Democratic Party\n",
    "import seaborn as sns\n",
    "df_demo = df_prediction[df_prediction['Political Affiliation']=='Democratic Party']\n",
    "\n",
    "fig, axes = plt.subplots(1, 2, figsize=(12, 5), sharey=True)\n",
    "fig.suptitle('Random Forest Results (Bag of Word) for Democratic Party')\n",
    "\n",
    "sns.countplot(ax=axes[0], x = 'Predicted Label', data = df_demo)\n",
    "sns.countplot(ax=axes[1],x = 'True Label', data = df_demo)"
   ]
  },
  {
   "cell_type": "code",
   "execution_count": 182,
   "metadata": {},
   "outputs": [
    {
     "data": {
      "text/html": [
       "<div>\n",
       "<style scoped>\n",
       "    .dataframe tbody tr th:only-of-type {\n",
       "        vertical-align: middle;\n",
       "    }\n",
       "\n",
       "    .dataframe tbody tr th {\n",
       "        vertical-align: top;\n",
       "    }\n",
       "\n",
       "    .dataframe thead th {\n",
       "        text-align: right;\n",
       "    }\n",
       "</style>\n",
       "<table border=\"1\" class=\"dataframe\">\n",
       "  <thead>\n",
       "    <tr style=\"text-align: right;\">\n",
       "      <th></th>\n",
       "      <th>Predicted Label</th>\n",
       "      <th>True Label</th>\n",
       "      <th>Political Affiliation</th>\n",
       "    </tr>\n",
       "  </thead>\n",
       "  <tbody>\n",
       "    <tr>\n",
       "      <th>0</th>\n",
       "      <td>1</td>\n",
       "      <td>0</td>\n",
       "      <td>Others</td>\n",
       "    </tr>\n",
       "    <tr>\n",
       "      <th>1</th>\n",
       "      <td>0</td>\n",
       "      <td>1</td>\n",
       "      <td>Others</td>\n",
       "    </tr>\n",
       "    <tr>\n",
       "      <th>2</th>\n",
       "      <td>0</td>\n",
       "      <td>0</td>\n",
       "      <td>Others</td>\n",
       "    </tr>\n",
       "    <tr>\n",
       "      <th>3</th>\n",
       "      <td>0</td>\n",
       "      <td>1</td>\n",
       "      <td>Others</td>\n",
       "    </tr>\n",
       "    <tr>\n",
       "      <th>4</th>\n",
       "      <td>1</td>\n",
       "      <td>1</td>\n",
       "      <td>Others</td>\n",
       "    </tr>\n",
       "    <tr>\n",
       "      <th>...</th>\n",
       "      <td>...</td>\n",
       "      <td>...</td>\n",
       "      <td>...</td>\n",
       "    </tr>\n",
       "    <tr>\n",
       "      <th>761</th>\n",
       "      <td>1</td>\n",
       "      <td>1</td>\n",
       "      <td>Others</td>\n",
       "    </tr>\n",
       "    <tr>\n",
       "      <th>762</th>\n",
       "      <td>1</td>\n",
       "      <td>0</td>\n",
       "      <td>Others</td>\n",
       "    </tr>\n",
       "    <tr>\n",
       "      <th>763</th>\n",
       "      <td>0</td>\n",
       "      <td>0</td>\n",
       "      <td>Republican Party</td>\n",
       "    </tr>\n",
       "    <tr>\n",
       "      <th>764</th>\n",
       "      <td>0</td>\n",
       "      <td>1</td>\n",
       "      <td>Others</td>\n",
       "    </tr>\n",
       "    <tr>\n",
       "      <th>765</th>\n",
       "      <td>0</td>\n",
       "      <td>0</td>\n",
       "      <td>Others</td>\n",
       "    </tr>\n",
       "  </tbody>\n",
       "</table>\n",
       "<p>766 rows × 3 columns</p>\n",
       "</div>"
      ],
      "text/plain": [
       "     Predicted Label  True Label Political Affiliation\n",
       "0                  1           0                Others\n",
       "1                  0           1                Others\n",
       "2                  0           0                Others\n",
       "3                  0           1                Others\n",
       "4                  1           1                Others\n",
       "..               ...         ...                   ...\n",
       "761                1           1                Others\n",
       "762                1           0                Others\n",
       "763                0           0      Republican Party\n",
       "764                0           1                Others\n",
       "765                0           0                Others\n",
       "\n",
       "[766 rows x 3 columns]"
      ]
     },
     "execution_count": 182,
     "metadata": {},
     "output_type": "execute_result"
    }
   ],
   "source": [
    "#create df with true and predicted labels of random forest with TFIDF\n",
    "df_prediction1 = pd.DataFrame(prediction_tfidf,columns=['Predicted Label'])\n",
    "df_prediction1['True Label'] = y_test_us1.values\n",
    "df_prediction1['Political Affiliation'] = df_US.loc[y_test_us1.index,['Political Affiliation']].values\n",
    "df_prediction1"
   ]
  },
  {
   "cell_type": "code",
   "execution_count": 184,
   "metadata": {
    "scrolled": false
   },
   "outputs": [
    {
     "data": {
      "text/plain": [
       "<matplotlib.axes._subplots.AxesSubplot at 0x7fda8f46c4f0>"
      ]
     },
     "execution_count": 184,
     "metadata": {},
     "output_type": "execute_result"
    },
    {
     "data": {
      "image/png": "[encoded data removed]",
      "text/plain": [
       "<Figure size 864x360 with 2 Axes>"
      ]
     },
     "metadata": {
      "needs_background": "light"
     },
     "output_type": "display_data"
    }
   ],
   "source": [
    "#use countplot to visualize predicted labels and true label for Republican Party\n",
    "import seaborn as sns\n",
    "df_rep = df_prediction1[df_prediction1['Political Affiliation']=='Republican Party']\n",
    "fig, axes = plt.subplots(1, 2, figsize=(12, 5), sharey=True)\n",
    "fig.suptitle('Random Forest Results (TF-IDF) for Republican Party')\n",
    "\n",
    "sns.countplot(ax=axes[0], x = 'Predicted Label', data = df_rep)\n",
    "sns.countplot(ax=axes[1],x = 'True Label', data = df_rep)"
   ]
  },
  {
   "cell_type": "code",
   "execution_count": 186,
   "metadata": {},
   "outputs": [
    {
     "data": {
      "text/plain": [
       "<matplotlib.axes._subplots.AxesSubplot at 0x7fda910ab3d0>"
      ]
     },
     "execution_count": 186,
     "metadata": {},
     "output_type": "execute_result"
    },
    {
     "data": {
      "image/png": "[encoded data removed]",
      "text/plain": [
       "<Figure size 864x360 with 2 Axes>"
      ]
     },
     "metadata": {
      "needs_background": "light"
     },
     "output_type": "display_data"
    }
   ],
   "source": [
    "#use countplot to visualize predicted labels and true label for Democratic Party\n",
    "import seaborn as sns\n",
    "df_demo = df_prediction1[df_prediction1['Political Affiliation']=='Democratic Party']\n",
    "\n",
    "fig, axes = plt.subplots(1, 2, figsize=(12, 5), sharey=True)\n",
    "fig.suptitle('Random Forest Results (TFIDF) for Democratic Party')\n",
    "\n",
    "sns.countplot(ax=axes[0], x = 'Predicted Label', data = df_demo)\n",
    "sns.countplot(ax=axes[1],x = 'True Label', data = df_demo)"
   ]
  },
  {
   "cell_type": "markdown",
   "metadata": {},
   "source": [
    "#### The test accurcy is much lower on US election dataset. It is because features of bag of words and TFIDF in election dataset are quite different from those in the sentiment dataset."
   ]
  },
  {
   "cell_type": "markdown",
   "metadata": {},
   "source": [
    "### 4.4 Negative tweets analysis"
   ]
  },
  {
   "cell_type": "code",
   "execution_count": 129,
   "metadata": {},
   "outputs": [
    {
     "data": {
      "text/html": [
       "<div>\n",
       "<style scoped>\n",
       "    .dataframe tbody tr th:only-of-type {\n",
       "        vertical-align: middle;\n",
       "    }\n",
       "\n",
       "    .dataframe tbody tr th {\n",
       "        vertical-align: top;\n",
       "    }\n",
       "\n",
       "    .dataframe thead th {\n",
       "        text-align: right;\n",
       "    }\n",
       "</style>\n",
       "<table border=\"1\" class=\"dataframe\">\n",
       "  <thead>\n",
       "    <tr style=\"text-align: right;\">\n",
       "      <th></th>\n",
       "      <th>text</th>\n",
       "      <th>sentiment</th>\n",
       "      <th>negative_reason</th>\n",
       "    </tr>\n",
       "  </thead>\n",
       "  <tbody>\n",
       "    <tr>\n",
       "      <th>0</th>\n",
       "      <td>afraid nov dec jan #bidenharris win frump mont...</td>\n",
       "      <td>0</td>\n",
       "      <td>covid19</td>\n",
       "    </tr>\n",
       "    <tr>\n",
       "      <th>1</th>\n",
       "      <td>lord sumption launches recovery initiative pro...</td>\n",
       "      <td>0</td>\n",
       "      <td>others</td>\n",
       "    </tr>\n",
       "    <tr>\n",
       "      <th>2</th>\n",
       "      <td>uber timing #biden advisors pressure #brazil s...</td>\n",
       "      <td>0</td>\n",
       "      <td>covid19</td>\n",
       "    </tr>\n",
       "    <tr>\n",
       "      <th>5</th>\n",
       "      <td>accelerating rising #americans killed #trumpvirus</td>\n",
       "      <td>0</td>\n",
       "      <td>discrimination</td>\n",
       "    </tr>\n",
       "    <tr>\n",
       "      <th>6</th>\n",
       "      <td>dead americans day times number died benghazi ...</td>\n",
       "      <td>0</td>\n",
       "      <td>discrimination</td>\n",
       "    </tr>\n",
       "  </tbody>\n",
       "</table>\n",
       "</div>"
      ],
      "text/plain": [
       "                                                text  sentiment  \\\n",
       "0  afraid nov dec jan #bidenharris win frump mont...          0   \n",
       "1  lord sumption launches recovery initiative pro...          0   \n",
       "2  uber timing #biden advisors pressure #brazil s...          0   \n",
       "5  accelerating rising #americans killed #trumpvirus          0   \n",
       "6  dead americans day times number died benghazi ...          0   \n",
       "\n",
       "  negative_reason  \n",
       "0         covid19  \n",
       "1          others  \n",
       "2         covid19  \n",
       "5  discrimination  \n",
       "6  discrimination  "
      ]
     },
     "execution_count": 129,
     "metadata": {},
     "output_type": "execute_result"
    }
   ],
   "source": [
    "#get negative tweets\n",
    "df_negative = df_US[df_US['sentiment']==0]\n",
    "df_negative.head()"
   ]
  },
  {
   "cell_type": "code",
   "execution_count": 130,
   "metadata": {},
   "outputs": [
    {
     "data": {
      "text/plain": [
       "covid19           405\n",
       "crime             222\n",
       "corruption        220\n",
       "discrimination    215\n",
       "others            202\n",
       "Name: negative_reason, dtype: int64"
      ]
     },
     "execution_count": 130,
     "metadata": {},
     "output_type": "execute_result"
    }
   ],
   "source": [
    "df_negative['negative_reason'].value_counts()"
   ]
  },
  {
   "cell_type": "code",
   "execution_count": 27,
   "metadata": {},
   "outputs": [
    {
     "data": {
      "text/html": [
       "<div>\n",
       "<style scoped>\n",
       "    .dataframe tbody tr th:only-of-type {\n",
       "        vertical-align: middle;\n",
       "    }\n",
       "\n",
       "    .dataframe tbody tr th {\n",
       "        vertical-align: top;\n",
       "    }\n",
       "\n",
       "    .dataframe thead th {\n",
       "        text-align: right;\n",
       "    }\n",
       "</style>\n",
       "<table border=\"1\" class=\"dataframe\">\n",
       "  <thead>\n",
       "    <tr style=\"text-align: right;\">\n",
       "      <th></th>\n",
       "      <th>text</th>\n",
       "      <th>sentiment</th>\n",
       "      <th>negative_reason</th>\n",
       "      <th>_corruption</th>\n",
       "      <th>_covid19</th>\n",
       "      <th>_crime</th>\n",
       "      <th>_discrimination</th>\n",
       "      <th>_others</th>\n",
       "    </tr>\n",
       "  </thead>\n",
       "  <tbody>\n",
       "    <tr>\n",
       "      <th>0</th>\n",
       "      <td>robreiner afraid nov dec jan bidenharris winfr...</td>\n",
       "      <td>0</td>\n",
       "      <td>covid19</td>\n",
       "      <td>0</td>\n",
       "      <td>1</td>\n",
       "      <td>0</td>\n",
       "      <td>0</td>\n",
       "      <td>0</td>\n",
       "    </tr>\n",
       "    <tr>\n",
       "      <th>1</th>\n",
       "      <td>sueck lord sumption launches recovery initiati...</td>\n",
       "      <td>0</td>\n",
       "      <td>others</td>\n",
       "      <td>0</td>\n",
       "      <td>0</td>\n",
       "      <td>0</td>\n",
       "      <td>0</td>\n",
       "      <td>1</td>\n",
       "    </tr>\n",
       "    <tr>\n",
       "      <th>2</th>\n",
       "      <td>walidphares uber timing biden advisors pressur...</td>\n",
       "      <td>0</td>\n",
       "      <td>covid19</td>\n",
       "      <td>0</td>\n",
       "      <td>1</td>\n",
       "      <td>0</td>\n",
       "      <td>0</td>\n",
       "      <td>0</td>\n",
       "    </tr>\n",
       "    <tr>\n",
       "      <th>5</th>\n",
       "      <td>accelerating rising americans killed trumpvirus</td>\n",
       "      <td>0</td>\n",
       "      <td>discrimination</td>\n",
       "      <td>0</td>\n",
       "      <td>0</td>\n",
       "      <td>0</td>\n",
       "      <td>1</td>\n",
       "      <td>0</td>\n",
       "    </tr>\n",
       "    <tr>\n",
       "      <th>6</th>\n",
       "      <td>realdonaldtrump  dead americans day  times num...</td>\n",
       "      <td>0</td>\n",
       "      <td>discrimination</td>\n",
       "      <td>0</td>\n",
       "      <td>0</td>\n",
       "      <td>0</td>\n",
       "      <td>1</td>\n",
       "      <td>0</td>\n",
       "    </tr>\n",
       "  </tbody>\n",
       "</table>\n",
       "</div>"
      ],
      "text/plain": [
       "                                                text  sentiment  \\\n",
       "0  robreiner afraid nov dec jan bidenharris winfr...          0   \n",
       "1  sueck lord sumption launches recovery initiati...          0   \n",
       "2  walidphares uber timing biden advisors pressur...          0   \n",
       "5    accelerating rising americans killed trumpvirus          0   \n",
       "6  realdonaldtrump  dead americans day  times num...          0   \n",
       "\n",
       "  negative_reason  _corruption  _covid19  _crime  _discrimination  _others  \n",
       "0         covid19            0         1       0                0        0  \n",
       "1          others            0         0       0                0        1  \n",
       "2         covid19            0         1       0                0        0  \n",
       "5  discrimination            0         0       0                1        0  \n",
       "6  discrimination            0         0       0                1        0  "
      ]
     },
     "execution_count": 27,
     "metadata": {},
     "output_type": "execute_result"
    }
   ],
   "source": [
    "# one hot encoding for negative_reason\n",
    "dummies_reason = pd.get_dummies(df_negative['negative_reason'], prefix='')\n",
    "tempDF = pd.concat([df_negative, dummies_reason], axis=1)\n",
    "tempDF.head()"
   ]
  },
  {
   "cell_type": "code",
   "execution_count": 161,
   "metadata": {},
   "outputs": [
    {
     "data": {
      "text/html": [
       "<div>\n",
       "<style scoped>\n",
       "    .dataframe tbody tr th:only-of-type {\n",
       "        vertical-align: middle;\n",
       "    }\n",
       "\n",
       "    .dataframe tbody tr th {\n",
       "        vertical-align: top;\n",
       "    }\n",
       "\n",
       "    .dataframe thead th {\n",
       "        text-align: right;\n",
       "    }\n",
       "</style>\n",
       "<table border=\"1\" class=\"dataframe\">\n",
       "  <thead>\n",
       "    <tr style=\"text-align: right;\">\n",
       "      <th></th>\n",
       "      <th>text</th>\n",
       "      <th>sentiment</th>\n",
       "      <th>negative_reason</th>\n",
       "      <th>reason_Encoded</th>\n",
       "    </tr>\n",
       "  </thead>\n",
       "  <tbody>\n",
       "    <tr>\n",
       "      <th>0</th>\n",
       "      <td>afraid nov dec jan #bidenharris win frump mont...</td>\n",
       "      <td>0</td>\n",
       "      <td>covid19</td>\n",
       "      <td>0</td>\n",
       "    </tr>\n",
       "    <tr>\n",
       "      <th>1</th>\n",
       "      <td>lord sumption launches recovery initiative pro...</td>\n",
       "      <td>0</td>\n",
       "      <td>others</td>\n",
       "      <td>4</td>\n",
       "    </tr>\n",
       "    <tr>\n",
       "      <th>2</th>\n",
       "      <td>uber timing #biden advisors pressure #brazil s...</td>\n",
       "      <td>0</td>\n",
       "      <td>covid19</td>\n",
       "      <td>0</td>\n",
       "    </tr>\n",
       "    <tr>\n",
       "      <th>5</th>\n",
       "      <td>accelerating rising #americans killed #trumpvirus</td>\n",
       "      <td>0</td>\n",
       "      <td>discrimination</td>\n",
       "      <td>3</td>\n",
       "    </tr>\n",
       "    <tr>\n",
       "      <th>6</th>\n",
       "      <td>dead americans day times number died benghazi ...</td>\n",
       "      <td>0</td>\n",
       "      <td>discrimination</td>\n",
       "      <td>3</td>\n",
       "    </tr>\n",
       "  </tbody>\n",
       "</table>\n",
       "</div>"
      ],
      "text/plain": [
       "                                                text  sentiment  \\\n",
       "0  afraid nov dec jan #bidenharris win frump mont...          0   \n",
       "1  lord sumption launches recovery initiative pro...          0   \n",
       "2  uber timing #biden advisors pressure #brazil s...          0   \n",
       "5  accelerating rising #americans killed #trumpvirus          0   \n",
       "6  dead americans day times number died benghazi ...          0   \n",
       "\n",
       "  negative_reason  reason_Encoded  \n",
       "0         covid19               0  \n",
       "1          others               4  \n",
       "2         covid19               0  \n",
       "5  discrimination               3  \n",
       "6  discrimination               3  "
      ]
     },
     "execution_count": 161,
     "metadata": {},
     "output_type": "execute_result"
    }
   ],
   "source": [
    "# label encoding for negative_reason\n",
    "reason_encode = {'covid19':0,\n",
    "               'crime':1,\n",
    "               'corruption':2,\n",
    "               'discrimination':3,\n",
    "               'others': 4\n",
    "               }\n",
    "df_negative.loc[:,'reason_Encoded'] = df_negative.loc[:,'negative_reason'].map(reason_encode)\n",
    "df_negative.loc[:,'reason_Encoded']= df_negative.loc[:,'reason_Encoded'].astype(int)\n",
    "df_negative.reason_Encoded.unique()\n",
    "df_negative.head(5)"
   ]
  },
  {
   "cell_type": "markdown",
   "metadata": {},
   "source": [
    "### 4.4.1 Apply algorithms on Bag of Words"
   ]
  },
  {
   "cell_type": "code",
   "execution_count": 219,
   "metadata": {},
   "outputs": [
    {
     "data": {
      "text/html": [
       "<div>\n",
       "<style scoped>\n",
       "    .dataframe tbody tr th:only-of-type {\n",
       "        vertical-align: middle;\n",
       "    }\n",
       "\n",
       "    .dataframe tbody tr th {\n",
       "        vertical-align: top;\n",
       "    }\n",
       "\n",
       "    .dataframe thead th {\n",
       "        text-align: right;\n",
       "    }\n",
       "</style>\n",
       "<table border=\"1\" class=\"dataframe\">\n",
       "  <thead>\n",
       "    <tr style=\"text-align: right;\">\n",
       "      <th></th>\n",
       "      <th>absentee</th>\n",
       "      <th>accelerating</th>\n",
       "      <th>account</th>\n",
       "      <th>actual</th>\n",
       "      <th>administration</th>\n",
       "      <th>ads</th>\n",
       "      <th>afraid</th>\n",
       "      <th>ahead</th>\n",
       "      <th>allowed</th>\n",
       "      <th>america</th>\n",
       "      <th>...</th>\n",
       "      <th>worse</th>\n",
       "      <th>worst</th>\n",
       "      <th>wrong</th>\n",
       "      <th>wtf</th>\n",
       "      <th>yeah</th>\n",
       "      <th>year</th>\n",
       "      <th>years</th>\n",
       "      <th>yelling</th>\n",
       "      <th>yesterday</th>\n",
       "      <th>young</th>\n",
       "    </tr>\n",
       "  </thead>\n",
       "  <tbody>\n",
       "    <tr>\n",
       "      <th>0</th>\n",
       "      <td>0.0</td>\n",
       "      <td>0.000000</td>\n",
       "      <td>0.0</td>\n",
       "      <td>0.0</td>\n",
       "      <td>0.0</td>\n",
       "      <td>0.0</td>\n",
       "      <td>0.408248</td>\n",
       "      <td>0.0</td>\n",
       "      <td>0.0</td>\n",
       "      <td>0.0</td>\n",
       "      <td>...</td>\n",
       "      <td>0.0</td>\n",
       "      <td>0.0</td>\n",
       "      <td>0.0</td>\n",
       "      <td>0.0</td>\n",
       "      <td>0.0</td>\n",
       "      <td>0.0</td>\n",
       "      <td>0.0</td>\n",
       "      <td>0.0</td>\n",
       "      <td>0.0</td>\n",
       "      <td>0.0</td>\n",
       "    </tr>\n",
       "    <tr>\n",
       "      <th>1</th>\n",
       "      <td>0.0</td>\n",
       "      <td>0.000000</td>\n",
       "      <td>0.0</td>\n",
       "      <td>0.0</td>\n",
       "      <td>0.0</td>\n",
       "      <td>0.0</td>\n",
       "      <td>0.000000</td>\n",
       "      <td>0.0</td>\n",
       "      <td>0.0</td>\n",
       "      <td>0.0</td>\n",
       "      <td>...</td>\n",
       "      <td>0.0</td>\n",
       "      <td>0.0</td>\n",
       "      <td>0.0</td>\n",
       "      <td>0.0</td>\n",
       "      <td>0.0</td>\n",
       "      <td>0.0</td>\n",
       "      <td>0.0</td>\n",
       "      <td>0.0</td>\n",
       "      <td>0.0</td>\n",
       "      <td>0.0</td>\n",
       "    </tr>\n",
       "    <tr>\n",
       "      <th>2</th>\n",
       "      <td>0.0</td>\n",
       "      <td>0.000000</td>\n",
       "      <td>0.0</td>\n",
       "      <td>0.0</td>\n",
       "      <td>0.0</td>\n",
       "      <td>0.0</td>\n",
       "      <td>0.000000</td>\n",
       "      <td>0.0</td>\n",
       "      <td>0.0</td>\n",
       "      <td>0.0</td>\n",
       "      <td>...</td>\n",
       "      <td>0.0</td>\n",
       "      <td>0.0</td>\n",
       "      <td>0.0</td>\n",
       "      <td>0.0</td>\n",
       "      <td>0.0</td>\n",
       "      <td>0.0</td>\n",
       "      <td>0.0</td>\n",
       "      <td>0.0</td>\n",
       "      <td>0.0</td>\n",
       "      <td>0.0</td>\n",
       "    </tr>\n",
       "    <tr>\n",
       "      <th>3</th>\n",
       "      <td>0.0</td>\n",
       "      <td>0.447214</td>\n",
       "      <td>0.0</td>\n",
       "      <td>0.0</td>\n",
       "      <td>0.0</td>\n",
       "      <td>0.0</td>\n",
       "      <td>0.000000</td>\n",
       "      <td>0.0</td>\n",
       "      <td>0.0</td>\n",
       "      <td>0.0</td>\n",
       "      <td>...</td>\n",
       "      <td>0.0</td>\n",
       "      <td>0.0</td>\n",
       "      <td>0.0</td>\n",
       "      <td>0.0</td>\n",
       "      <td>0.0</td>\n",
       "      <td>0.0</td>\n",
       "      <td>0.0</td>\n",
       "      <td>0.0</td>\n",
       "      <td>0.0</td>\n",
       "      <td>0.0</td>\n",
       "    </tr>\n",
       "    <tr>\n",
       "      <th>4</th>\n",
       "      <td>0.0</td>\n",
       "      <td>0.000000</td>\n",
       "      <td>0.0</td>\n",
       "      <td>0.0</td>\n",
       "      <td>0.0</td>\n",
       "      <td>0.0</td>\n",
       "      <td>0.000000</td>\n",
       "      <td>0.0</td>\n",
       "      <td>0.0</td>\n",
       "      <td>0.0</td>\n",
       "      <td>...</td>\n",
       "      <td>0.0</td>\n",
       "      <td>0.0</td>\n",
       "      <td>0.0</td>\n",
       "      <td>0.0</td>\n",
       "      <td>0.0</td>\n",
       "      <td>0.0</td>\n",
       "      <td>0.0</td>\n",
       "      <td>0.0</td>\n",
       "      <td>0.0</td>\n",
       "      <td>0.0</td>\n",
       "    </tr>\n",
       "  </tbody>\n",
       "</table>\n",
       "<p>5 rows × 500 columns</p>\n",
       "</div>"
      ],
      "text/plain": [
       "   absentee  accelerating  account  actual  administration  ads    afraid  \\\n",
       "0       0.0      0.000000      0.0     0.0             0.0  0.0  0.408248   \n",
       "1       0.0      0.000000      0.0     0.0             0.0  0.0  0.000000   \n",
       "2       0.0      0.000000      0.0     0.0             0.0  0.0  0.000000   \n",
       "3       0.0      0.447214      0.0     0.0             0.0  0.0  0.000000   \n",
       "4       0.0      0.000000      0.0     0.0             0.0  0.0  0.000000   \n",
       "\n",
       "   ahead  allowed  america  ...  worse  worst  wrong  wtf  yeah  year  years  \\\n",
       "0    0.0      0.0      0.0  ...    0.0    0.0    0.0  0.0   0.0   0.0    0.0   \n",
       "1    0.0      0.0      0.0  ...    0.0    0.0    0.0  0.0   0.0   0.0    0.0   \n",
       "2    0.0      0.0      0.0  ...    0.0    0.0    0.0  0.0   0.0   0.0    0.0   \n",
       "3    0.0      0.0      0.0  ...    0.0    0.0    0.0  0.0   0.0   0.0    0.0   \n",
       "4    0.0      0.0      0.0  ...    0.0    0.0    0.0  0.0   0.0   0.0    0.0   \n",
       "\n",
       "   yelling  yesterday  young  \n",
       "0      0.0        0.0    0.0  \n",
       "1      0.0        0.0    0.0  \n",
       "2      0.0        0.0    0.0  \n",
       "3      0.0        0.0    0.0  \n",
       "4      0.0        0.0    0.0  \n",
       "\n",
       "[5 rows x 500 columns]"
      ]
     },
     "execution_count": 219,
     "metadata": {},
     "output_type": "execute_result"
    }
   ],
   "source": [
    "#use tfidf to represent text\n",
    "vectorizer = text_processing(df_negative['text'], False) #False indicates TF\n",
    "us_tf = vectorizer.transform(df_negative['text'])\n",
    "y_us = df_negative.reason_Encoded\n",
    "pd.DataFrame(data=us_tf.toarray(),columns=vectorizer.get_feature_names()).head()"
   ]
  },
  {
   "cell_type": "code",
   "execution_count": 220,
   "metadata": {},
   "outputs": [],
   "source": [
    "#split data\n",
    "us_train_tf, us_test_tf, y_train_us, y_test_us = train_test_split(us_tf,y_us,test_size=0.3, random_state=42)"
   ]
  },
  {
   "cell_type": "code",
   "execution_count": 227,
   "metadata": {},
   "outputs": [
    {
     "name": "stdout",
     "output_type": "stream",
     "text": [
      "tuned hyperparameters :(best parameters)  {'C': 0.1, 'solver': 'saga'}\n",
      "best train accuracy : 0.3427477017364658\n",
      "test accuracy on best model : 0.3\n"
     ]
    }
   ],
   "source": [
    "#hyperparameter tuning for Logistic Regression using grid search\n",
    "\n",
    "from sklearn.model_selection import StratifiedKFold\n",
    "cv = StratifiedKFold(n_splits=10, shuffle=True) #apply 10-fold cv\n",
    "\n",
    "solver_list =  ['liblinear','saga','newton-cg','lbfgs']\n",
    "C_list = [0.001,0.01, 0.1, 1, 10, 100, 1000]\n",
    "\n",
    "param_grid = {'C': C_list, 'solver': solver_list}\n",
    "\n",
    "log_us = LogisticRegression(max_iter=3000,multi_class='multinomial') # apply one vs one multiclass classification\n",
    "log_gs = GridSearchCV(log_us, param_grid ,cv=cv)\n",
    "log_gs.fit(us_train_tf,y_train_us)\n",
    "\n",
    "#apply best model\n",
    "best_log = log_gs.best_estimator_\n",
    "y_test_pred = best_log.predict(us_test_tf)\n",
    "log_test_accuracy = accuracy_score(y_test_us,y_test_pred)\n",
    "\n",
    "print(\"tuned hyperparameters :(best parameters) \",log_gs.best_params_)\n",
    "print(\"best train accuracy :\", log_gs.best_score_)\n",
    "print(\"test accuracy on best model :\", log_test_accuracy)"
   ]
  },
  {
   "cell_type": "code",
   "execution_count": 151,
   "metadata": {},
   "outputs": [
    {
     "name": "stdout",
     "output_type": "stream",
     "text": [
      "tuned hyperparameters :(best parameters)  {'n_neighbors': 3, 'p': 1, 'weights': 'distance'}\n",
      "best train accuracy : 0.36423646578140967\n",
      "test accuracy on best model : 0.3263157894736842\n"
     ]
    }
   ],
   "source": [
    "#hyperparameter tuning for Knn using grid search\n",
    "\n",
    "cv = StratifiedKFold(n_splits=10, shuffle=True)\n",
    "gs = {'n_neighbors': np.arange(1,40),\n",
    "      'p': [1,2],\n",
    "      'weights': ['uniform', 'distance']}\n",
    "\n",
    "knn_gs = KNeighborsClassifier()\n",
    "knn_param_search = GridSearchCV(knn_gs,gs,cv=cv)\n",
    "knn_param_search.fit(us_train_tf,y_train_us)\n",
    "\n",
    "#apply best model\n",
    "best_knn = knn_param_search.best_estimator_\n",
    "knn_y_pred = best_knn.predict(us_test_tf)\n",
    "knn_test_accuracy = accuracy_score(y_test_us,knn_y_pred)\n",
    "\n",
    "print(\"tuned hyperparameters :(best parameters) \",knn_param_search.best_params_)\n",
    "print(\"best train accuracy :\", knn_param_search.best_score_)\n",
    "print(\"test accuracy on best model :\", knn_test_accuracy)\n",
    "\n",
    "#print(classification_report(y_test_us, knn_test_accuracy))"
   ]
  },
  {
   "cell_type": "code",
   "execution_count": 228,
   "metadata": {},
   "outputs": [
    {
     "name": "stdout",
     "output_type": "stream",
     "text": [
      "tuned hyperparameters :(best parameters)  {'C': 1, 'gamma': 1.5, 'kernel': 'rbf', 'max_iter': 10000}\n",
      "best train accuracy : 0.37104187946884576\n",
      "test accuracy on best model: 0.3473684210526316\n"
     ]
    }
   ],
   "source": [
    "#hyperparameter tuning for SVM using grid search\n",
    "\n",
    "cv = StratifiedKFold(n_splits=10, shuffle=True)\n",
    "param = {\n",
    "    'C': [0.001, 0.01, 0.1, 1, 10, 100],\n",
    "    'max_iter': [10000],\n",
    "    'kernel':['linear', 'rbf', 'sigmoid'],\n",
    "    'gamma' :[0.001, 0.01, 0.1, 0.5, 1, 1.5,10]\n",
    "}\n",
    "\n",
    "svc_us = SVC(decision_function_shape='ovo')# apply one vs one multiclass classification\n",
    "GSCV_svc = GridSearchCV(svc_us, param_grid=param, scoring='accuracy', cv=cv)\n",
    "GSCV_svc.fit(us_train_tf,y_train_us)\n",
    "\n",
    "#apply best model\n",
    "best_svc = GSCV_svc.best_estimator_\n",
    "svc_y_pred = best_svc.predict(us_test_tf)\n",
    "svc_test_accuracy = accuracy_score(y_test_us,svc_y_pred)\n",
    "\n",
    "GSCV_svc.best_params_ , GSCV_svc.best_score_\n",
    "print(\"tuned hyperparameters :(best parameters) \",GSCV_svc.best_params_ )\n",
    "print(\"best train accuracy :\", GSCV_svc.best_score_)\n",
    "print(\"test accuracy on best model:\", svc_test_accuracy)\n",
    "#print(classification_report(y_test, svc_test_accuracy))"
   ]
  },
  {
   "cell_type": "markdown",
   "metadata": {},
   "source": [
    "### 4.4.2 Apply algorithms on TF-IDF"
   ]
  },
  {
   "cell_type": "code",
   "execution_count": 222,
   "metadata": {},
   "outputs": [
    {
     "data": {
      "text/html": [
       "<div>\n",
       "<style scoped>\n",
       "    .dataframe tbody tr th:only-of-type {\n",
       "        vertical-align: middle;\n",
       "    }\n",
       "\n",
       "    .dataframe tbody tr th {\n",
       "        vertical-align: top;\n",
       "    }\n",
       "\n",
       "    .dataframe thead th {\n",
       "        text-align: right;\n",
       "    }\n",
       "</style>\n",
       "<table border=\"1\" class=\"dataframe\">\n",
       "  <thead>\n",
       "    <tr style=\"text-align: right;\">\n",
       "      <th></th>\n",
       "      <th>absentee</th>\n",
       "      <th>accelerating</th>\n",
       "      <th>account</th>\n",
       "      <th>actual</th>\n",
       "      <th>administration</th>\n",
       "      <th>ads</th>\n",
       "      <th>afraid</th>\n",
       "      <th>ahead</th>\n",
       "      <th>allowed</th>\n",
       "      <th>america</th>\n",
       "      <th>...</th>\n",
       "      <th>worse</th>\n",
       "      <th>worst</th>\n",
       "      <th>wrong</th>\n",
       "      <th>wtf</th>\n",
       "      <th>yeah</th>\n",
       "      <th>year</th>\n",
       "      <th>years</th>\n",
       "      <th>yelling</th>\n",
       "      <th>yesterday</th>\n",
       "      <th>young</th>\n",
       "    </tr>\n",
       "  </thead>\n",
       "  <tbody>\n",
       "    <tr>\n",
       "      <th>0</th>\n",
       "      <td>0.0</td>\n",
       "      <td>0.000000</td>\n",
       "      <td>0.0</td>\n",
       "      <td>0.0</td>\n",
       "      <td>0.0</td>\n",
       "      <td>0.0</td>\n",
       "      <td>0.459988</td>\n",
       "      <td>0.0</td>\n",
       "      <td>0.0</td>\n",
       "      <td>0.0</td>\n",
       "      <td>...</td>\n",
       "      <td>0.0</td>\n",
       "      <td>0.0</td>\n",
       "      <td>0.0</td>\n",
       "      <td>0.0</td>\n",
       "      <td>0.0</td>\n",
       "      <td>0.0</td>\n",
       "      <td>0.0</td>\n",
       "      <td>0.0</td>\n",
       "      <td>0.0</td>\n",
       "      <td>0.0</td>\n",
       "    </tr>\n",
       "    <tr>\n",
       "      <th>1</th>\n",
       "      <td>0.0</td>\n",
       "      <td>0.000000</td>\n",
       "      <td>0.0</td>\n",
       "      <td>0.0</td>\n",
       "      <td>0.0</td>\n",
       "      <td>0.0</td>\n",
       "      <td>0.000000</td>\n",
       "      <td>0.0</td>\n",
       "      <td>0.0</td>\n",
       "      <td>0.0</td>\n",
       "      <td>...</td>\n",
       "      <td>0.0</td>\n",
       "      <td>0.0</td>\n",
       "      <td>0.0</td>\n",
       "      <td>0.0</td>\n",
       "      <td>0.0</td>\n",
       "      <td>0.0</td>\n",
       "      <td>0.0</td>\n",
       "      <td>0.0</td>\n",
       "      <td>0.0</td>\n",
       "      <td>0.0</td>\n",
       "    </tr>\n",
       "    <tr>\n",
       "      <th>2</th>\n",
       "      <td>0.0</td>\n",
       "      <td>0.000000</td>\n",
       "      <td>0.0</td>\n",
       "      <td>0.0</td>\n",
       "      <td>0.0</td>\n",
       "      <td>0.0</td>\n",
       "      <td>0.000000</td>\n",
       "      <td>0.0</td>\n",
       "      <td>0.0</td>\n",
       "      <td>0.0</td>\n",
       "      <td>...</td>\n",
       "      <td>0.0</td>\n",
       "      <td>0.0</td>\n",
       "      <td>0.0</td>\n",
       "      <td>0.0</td>\n",
       "      <td>0.0</td>\n",
       "      <td>0.0</td>\n",
       "      <td>0.0</td>\n",
       "      <td>0.0</td>\n",
       "      <td>0.0</td>\n",
       "      <td>0.0</td>\n",
       "    </tr>\n",
       "    <tr>\n",
       "      <th>3</th>\n",
       "      <td>0.0</td>\n",
       "      <td>0.470458</td>\n",
       "      <td>0.0</td>\n",
       "      <td>0.0</td>\n",
       "      <td>0.0</td>\n",
       "      <td>0.0</td>\n",
       "      <td>0.000000</td>\n",
       "      <td>0.0</td>\n",
       "      <td>0.0</td>\n",
       "      <td>0.0</td>\n",
       "      <td>...</td>\n",
       "      <td>0.0</td>\n",
       "      <td>0.0</td>\n",
       "      <td>0.0</td>\n",
       "      <td>0.0</td>\n",
       "      <td>0.0</td>\n",
       "      <td>0.0</td>\n",
       "      <td>0.0</td>\n",
       "      <td>0.0</td>\n",
       "      <td>0.0</td>\n",
       "      <td>0.0</td>\n",
       "    </tr>\n",
       "    <tr>\n",
       "      <th>4</th>\n",
       "      <td>0.0</td>\n",
       "      <td>0.000000</td>\n",
       "      <td>0.0</td>\n",
       "      <td>0.0</td>\n",
       "      <td>0.0</td>\n",
       "      <td>0.0</td>\n",
       "      <td>0.000000</td>\n",
       "      <td>0.0</td>\n",
       "      <td>0.0</td>\n",
       "      <td>0.0</td>\n",
       "      <td>...</td>\n",
       "      <td>0.0</td>\n",
       "      <td>0.0</td>\n",
       "      <td>0.0</td>\n",
       "      <td>0.0</td>\n",
       "      <td>0.0</td>\n",
       "      <td>0.0</td>\n",
       "      <td>0.0</td>\n",
       "      <td>0.0</td>\n",
       "      <td>0.0</td>\n",
       "      <td>0.0</td>\n",
       "    </tr>\n",
       "  </tbody>\n",
       "</table>\n",
       "<p>5 rows × 500 columns</p>\n",
       "</div>"
      ],
      "text/plain": [
       "   absentee  accelerating  account  actual  administration  ads    afraid  \\\n",
       "0       0.0      0.000000      0.0     0.0             0.0  0.0  0.459988   \n",
       "1       0.0      0.000000      0.0     0.0             0.0  0.0  0.000000   \n",
       "2       0.0      0.000000      0.0     0.0             0.0  0.0  0.000000   \n",
       "3       0.0      0.470458      0.0     0.0             0.0  0.0  0.000000   \n",
       "4       0.0      0.000000      0.0     0.0             0.0  0.0  0.000000   \n",
       "\n",
       "   ahead  allowed  america  ...  worse  worst  wrong  wtf  yeah  year  years  \\\n",
       "0    0.0      0.0      0.0  ...    0.0    0.0    0.0  0.0   0.0   0.0    0.0   \n",
       "1    0.0      0.0      0.0  ...    0.0    0.0    0.0  0.0   0.0   0.0    0.0   \n",
       "2    0.0      0.0      0.0  ...    0.0    0.0    0.0  0.0   0.0   0.0    0.0   \n",
       "3    0.0      0.0      0.0  ...    0.0    0.0    0.0  0.0   0.0   0.0    0.0   \n",
       "4    0.0      0.0      0.0  ...    0.0    0.0    0.0  0.0   0.0   0.0    0.0   \n",
       "\n",
       "   yelling  yesterday  young  \n",
       "0      0.0        0.0    0.0  \n",
       "1      0.0        0.0    0.0  \n",
       "2      0.0        0.0    0.0  \n",
       "3      0.0        0.0    0.0  \n",
       "4      0.0        0.0    0.0  \n",
       "\n",
       "[5 rows x 500 columns]"
      ]
     },
     "execution_count": 222,
     "metadata": {},
     "output_type": "execute_result"
    }
   ],
   "source": [
    "#use tfidf to represent text\n",
    "vectorizer = text_processing(df_negative['text'], True) #True indicates TF-IDF\n",
    "us_tfidf = vectorizer.transform(df_negative['text'])\n",
    "y_us = df_negative.reason_Encoded\n",
    "pd.DataFrame(data=us_tfidf.toarray(),columns=vectorizer.get_feature_names()).head()"
   ]
  },
  {
   "cell_type": "code",
   "execution_count": 223,
   "metadata": {},
   "outputs": [],
   "source": [
    "#split data\n",
    "us_train_tfidf, us_test_tfidf, y_train_us, y_test_us = train_test_split(us_tfidf,y_us,test_size=0.3,random_state=42)"
   ]
  },
  {
   "cell_type": "code",
   "execution_count": 224,
   "metadata": {},
   "outputs": [
    {
     "name": "stdout",
     "output_type": "stream",
     "text": [
      "tuned hyperparameters :(best parameters)  {'C': 0.1, 'solver': 'saga'}\n",
      "best train accuracy : 0.3438968335035751\n",
      "test accuracy on best model : 0.3\n"
     ]
    }
   ],
   "source": [
    "#hyperparameter tuning for Logistic Regression using grid search\n",
    "\n",
    "from sklearn.model_selection import StratifiedKFold\n",
    "cv = StratifiedKFold(n_splits=10, shuffle=True)\n",
    "\n",
    "solver_list =  ['liblinear','saga','newton-cg','lbfgs']\n",
    "C_list = [0.001,0.01, 0.1, 1, 10, 100, 1000]\n",
    "\n",
    "param_grid = {'C': C_list, 'solver': solver_list}\n",
    "\n",
    "log_us = LogisticRegression(max_iter=3000,multi_class='multinomial') # apply one vs one multiclass classification\n",
    "log_gs = GridSearchCV(log_us, param_grid ,cv=cv)\n",
    "log_gs.fit(us_train_tfidf,y_train_us)\n",
    "\n",
    "#apply best model\n",
    "best_log = log_gs.best_estimator_\n",
    "y_test_pred = best_log.predict(us_test_tfidf)\n",
    "log_test_accuracy = accuracy_score(y_test_us,y_test_pred)\n",
    "\n",
    "print(\"tuned hyperparameters :(best parameters) \",log_gs.best_params_)\n",
    "print(\"best train accuracy :\", log_gs.best_score_)\n",
    "print(\"test accuracy on best model :\", log_test_accuracy)"
   ]
  },
  {
   "cell_type": "code",
   "execution_count": 158,
   "metadata": {},
   "outputs": [
    {
     "name": "stdout",
     "output_type": "stream",
     "text": [
      "tuned hyperparameters :(best parameters)  {'n_neighbors': 16, 'p': 1, 'weights': 'distance'}\n",
      "best train accuracy : 0.37093973442288053\n",
      "test accuracy on best model : 0.32105263157894737\n"
     ]
    }
   ],
   "source": [
    "#hyperparameter tuning for Knn using grid search\n",
    "\n",
    "cv = StratifiedKFold(n_splits=10, shuffle=True)\n",
    "gs = {'n_neighbors': np.arange(1,40),\n",
    "      'p': [1,2],\n",
    "      'weights': ['uniform', 'distance']}\n",
    "\n",
    "knn_gs = KNeighborsClassifier()\n",
    "knn_param_search = GridSearchCV(knn_gs,gs,cv=cv)\n",
    "knn_param_search.fit(us_train_tfidf,y_train_us)\n",
    "\n",
    "#apply best model\n",
    "best_knn = knn_param_search.best_estimator_\n",
    "knn_y_pred = best_knn.predict(us_test_tfidf)\n",
    "knn_test_accuracy = accuracy_score(y_test_us,knn_y_pred)\n",
    "\n",
    "print(\"tuned hyperparameters :(best parameters) \",knn_param_search.best_params_)\n",
    "print(\"best train accuracy :\", knn_param_search.best_score_)\n",
    "print(\"test accuracy on best model :\", knn_test_accuracy)\n",
    "#print(classification_report(y_test_us, knn_test_accuracy))"
   ]
  },
  {
   "cell_type": "code",
   "execution_count": 159,
   "metadata": {},
   "outputs": [
    {
     "name": "stdout",
     "output_type": "stream",
     "text": [
      "tuned hyperparameters :(best parameters)  {'C': 1, 'gamma': 1.5, 'kernel': 'rbf', 'max_iter': 10000}\n",
      "best train accuracy : 0.3654494382022472\n",
      "test accuracy on best model: 0.35789473684210527\n"
     ]
    }
   ],
   "source": [
    "#hyperparameter tuning for SVM using grid search\n",
    "\n",
    "cv = StratifiedKFold(n_splits=10, shuffle=True)\n",
    "param = {\n",
    "    'C': [0.001, 0.01, 0.1, 1, 10, 100],\n",
    "    'max_iter': [10000],\n",
    "    'kernel':['linear', 'rbf', 'sigmoid'],\n",
    "    'gamma' :[0.001, 0.01, 0.1, 0.5, 1, 1.5,10]\n",
    "}\n",
    "\n",
    "svc_us = SVC(decision_function_shape='ovo') # apply one vs one multiclass classification\n",
    "GSCV_svc = GridSearchCV(svc_us, param_grid=param, scoring='accuracy', cv=cv)\n",
    "GSCV_svc.fit(us_train_tfidf,y_train_us)\n",
    "\n",
    "#apply best model\n",
    "best_svc = GSCV_svc.best_estimator_\n",
    "svc_y_pred = best_svc.predict(us_test_tfidf)\n",
    "svc_test_accuracy = accuracy_score(y_test_us,svc_y_pred)\n",
    "\n",
    "GSCV_svc.best_params_ , GSCV_svc.best_score_\n",
    "print(\"tuned hyperparameters :(best parameters) \",GSCV_svc.best_params_ )\n",
    "print(\"best train accuracy :\", GSCV_svc.best_score_)\n",
    "print(\"test accuracy on best model:\", svc_test_accuracy)\n",
    "\n",
    "#print(classification_report(y_test, svc_test_accuracy))"
   ]
  },
  {
   "cell_type": "code",
   "execution_count": 163,
   "metadata": {},
   "outputs": [
    {
     "data": {
      "text/html": [
       "<div>\n",
       "<style scoped>\n",
       "    .dataframe tbody tr th:only-of-type {\n",
       "        vertical-align: middle;\n",
       "    }\n",
       "\n",
       "    .dataframe tbody tr th {\n",
       "        vertical-align: top;\n",
       "    }\n",
       "\n",
       "    .dataframe thead th {\n",
       "        text-align: right;\n",
       "    }\n",
       "</style>\n",
       "<table border=\"1\" class=\"dataframe\">\n",
       "  <thead>\n",
       "    <tr style=\"text-align: right;\">\n",
       "      <th></th>\n",
       "      <th>Model</th>\n",
       "      <th>Bag of word</th>\n",
       "      <th>TF-IDF</th>\n",
       "      <th>Testing Accuracy on the best tuned model</th>\n",
       "    </tr>\n",
       "  </thead>\n",
       "  <tbody>\n",
       "    <tr>\n",
       "      <th>0</th>\n",
       "      <td>Logistic Regression</td>\n",
       "      <td>1</td>\n",
       "      <td>0</td>\n",
       "      <td>0.3000</td>\n",
       "    </tr>\n",
       "    <tr>\n",
       "      <th>1</th>\n",
       "      <td>KNN</td>\n",
       "      <td>1</td>\n",
       "      <td>0</td>\n",
       "      <td>0.3263</td>\n",
       "    </tr>\n",
       "    <tr>\n",
       "      <th>2</th>\n",
       "      <td>SVM</td>\n",
       "      <td>1</td>\n",
       "      <td>0</td>\n",
       "      <td>0.3526</td>\n",
       "    </tr>\n",
       "    <tr>\n",
       "      <th>3</th>\n",
       "      <td>Logistic Regression</td>\n",
       "      <td>0</td>\n",
       "      <td>1</td>\n",
       "      <td>0.3000</td>\n",
       "    </tr>\n",
       "    <tr>\n",
       "      <th>4</th>\n",
       "      <td>KNN</td>\n",
       "      <td>0</td>\n",
       "      <td>1</td>\n",
       "      <td>0.3210</td>\n",
       "    </tr>\n",
       "    <tr>\n",
       "      <th>5</th>\n",
       "      <td>SVM</td>\n",
       "      <td>0</td>\n",
       "      <td>1</td>\n",
       "      <td>0.3578</td>\n",
       "    </tr>\n",
       "  </tbody>\n",
       "</table>\n",
       "</div>"
      ],
      "text/plain": [
       "                 Model  Bag of word  TF-IDF  \\\n",
       "0  Logistic Regression            1       0   \n",
       "1                  KNN            1       0   \n",
       "2                  SVM            1       0   \n",
       "3  Logistic Regression            0       1   \n",
       "4                  KNN            0       1   \n",
       "5                  SVM            0       1   \n",
       "\n",
       "   Testing Accuracy on the best tuned model  \n",
       "0                                    0.3000  \n",
       "1                                    0.3263  \n",
       "2                                    0.3526  \n",
       "3                                    0.3000  \n",
       "4                                    0.3210  \n",
       "5                                    0.3578  "
      ]
     },
     "execution_count": 163,
     "metadata": {},
     "output_type": "execute_result"
    }
   ],
   "source": [
    "#summarize results in a table\n",
    "import pandas as pd\n",
    "df_prediction1 = pd.DataFrame({\"Model\":[\"Logistic Regression\", \"KNN\", \"SVM\",\"Logistic Regression\", \"KNN\", \"SVM\"]})\n",
    "df_prediction1[\"Bag of word\"]= [1,1,1,0,0,0]\n",
    "df_prediction1[\"TF-IDF\"]= [0,0,0,1,1,1]\n",
    "df_prediction1[\"Testing Accuracy on the best tuned model\"] =[0.3,0.3263,0.3526,0.3,0.3210,0.3578]\n",
    "df_prediction1"
   ]
  },
  {
   "cell_type": "markdown",
   "metadata": {},
   "source": [
    "#### Using SVM and features of TF-IDF yield the highest accuracy, which is 35.78%."
   ]
  },
  {
   "cell_type": "markdown",
   "metadata": {},
   "source": [
    "## 5.0 Discussion"
   ]
  },
  {
   "cell_type": "markdown",
   "metadata": {},
   "source": [
    "### NLP is useful since it cleans text data and tranforms the data into vector form, which can be used as the input of model to make predictions. The best model trained by the sentiment dataset is random forest with features of TF-IDF, the test accuracy is around 90%. However, the model performance drops significantly on the election dataset, with only around 48% of test accuracy. It is probably because the features of TFIDF are quite different in two datasets.\n",
    "### From the count plot, we can see the number of positive sentiments is higher for both parties in true sentiment. However, the predicted results show the number of negative sentiments is higher. So the model predicts part of positive sentiments as negative sentiments. For republican party, the number of positive sentiments are obviously higher than the number of negative sentiments, indicating the supporters of republican party are more likely to hold positive views. For democratic party, positive and negative sentiments are more evenly distributed, more negative sentiments are probably cauesd by the complains made to republican party.\n",
    "### One reason leading to the low accuracy is that some negative reasons are mislabeled in the dataset. For instance, some tweets complain about the covid19 but the corresponding negative reasons are labelled as discrimination, so even if the model predict the negative reason as covid19, it is still treated as wrong prediction.\n",
    "### Another reason is that only 500 features are selected to create TF and TF-IDF matrix in order to reduce the running time. So the sparse matrix cannot represent the complete text data, which may lower the test accuracy.\n",
    "### Moreover, data cleaning might be insufficient, more steps can be included to improve data cleaning. For example, lemmatization can be done to remove inflectional ending and  return the base form of a word.\n"
   ]
  },
  {
   "cell_type": "markdown",
   "metadata": {},
   "source": [
    "### The first model is a binary classification model while the second one is a multi-class classification model. To improve both models, we can perform hyperparameter tuning for the vectorizer to see how it affects the test accuracy, for example, we can increase the max feature number to 5000 and increase the N gram range to (2,3)."
   ]
  }
 ],
 "metadata": {
  "kernelspec": {
   "display_name": "Python 3",
   "language": "python",
   "name": "python3"
  },
  "language_info": {
   "codemirror_mode": {
    "name": "ipython",
    "version": 3
   },
   "file_extension": ".py",
   "mimetype": "text/x-python",
   "name": "python",
   "nbconvert_exporter": "python",
   "pygments_lexer": "ipython3",
   "version": "3.8.3"
  }
 },
 "nbformat": 4,
 "nbformat_minor": 4
}
